{
 "cells": [
  {
   "cell_type": "code",
   "execution_count": 1,
   "id": "d9a2301e",
   "metadata": {},
   "outputs": [],
   "source": [
    "import pandas as pd\n",
    "import numpy as np\n",
    "import matplotlib.pyplot as plt\n",
    "import seaborn as sns \n"
   ]
  },
  {
   "cell_type": "code",
   "execution_count": 9,
   "id": "6b424f52",
   "metadata": {},
   "outputs": [
    {
     "data": {
      "text/plain": [
       "{'age': [22, 24, 25, 29, 27, 31, 35, 38, 39, 41, 43, 47, 50, 32, 34],\n",
       " 'salary': [23000,\n",
       "  30000,\n",
       "  43000,\n",
       "  49000,\n",
       "  51000,\n",
       "  56000,\n",
       "  62000,\n",
       "  59000,\n",
       "  120000,\n",
       "  59000,\n",
       "  61000,\n",
       "  230000,\n",
       "  90000,\n",
       "  113000,\n",
       "  89000],\n",
       " 'purchesed': [0, 1, 1, 0, 1, 0, 1, 1, 1, 1, 0, 0, 1, 0, 1]}"
      ]
     },
     "execution_count": 9,
     "metadata": {},
     "output_type": "execute_result"
    }
   ],
   "source": [
    "dict1={'age':[22,24,25,29,27,31,35,38,39,41,43,47,50,32,34],'salary':[23000,30000,43000,49000,51000,\n",
    "56000,62000,59000,120000,59000,61000,\n",
    "230000,90000,113000,89000],'purchesed':[0,1,1,0,1,0,1,1,1,1,0,0,1,0,1]}\n",
    "dict1                                                                   "
   ]
  },
  {
   "cell_type": "code",
   "execution_count": 11,
   "id": "4e52dd73",
   "metadata": {},
   "outputs": [
    {
     "data": {
      "text/html": [
       "<div>\n",
       "<style scoped>\n",
       "    .dataframe tbody tr th:only-of-type {\n",
       "        vertical-align: middle;\n",
       "    }\n",
       "\n",
       "    .dataframe tbody tr th {\n",
       "        vertical-align: top;\n",
       "    }\n",
       "\n",
       "    .dataframe thead th {\n",
       "        text-align: right;\n",
       "    }\n",
       "</style>\n",
       "<table border=\"1\" class=\"dataframe\">\n",
       "  <thead>\n",
       "    <tr style=\"text-align: right;\">\n",
       "      <th></th>\n",
       "      <th>age</th>\n",
       "      <th>salary</th>\n",
       "      <th>purchesed</th>\n",
       "    </tr>\n",
       "  </thead>\n",
       "  <tbody>\n",
       "    <tr>\n",
       "      <th>0</th>\n",
       "      <td>22</td>\n",
       "      <td>23000</td>\n",
       "      <td>0</td>\n",
       "    </tr>\n",
       "    <tr>\n",
       "      <th>1</th>\n",
       "      <td>24</td>\n",
       "      <td>30000</td>\n",
       "      <td>1</td>\n",
       "    </tr>\n",
       "    <tr>\n",
       "      <th>2</th>\n",
       "      <td>25</td>\n",
       "      <td>43000</td>\n",
       "      <td>1</td>\n",
       "    </tr>\n",
       "    <tr>\n",
       "      <th>3</th>\n",
       "      <td>29</td>\n",
       "      <td>49000</td>\n",
       "      <td>0</td>\n",
       "    </tr>\n",
       "    <tr>\n",
       "      <th>4</th>\n",
       "      <td>27</td>\n",
       "      <td>51000</td>\n",
       "      <td>1</td>\n",
       "    </tr>\n",
       "  </tbody>\n",
       "</table>\n",
       "</div>"
      ],
      "text/plain": [
       "   age  salary  purchesed\n",
       "0   22   23000          0\n",
       "1   24   30000          1\n",
       "2   25   43000          1\n",
       "3   29   49000          0\n",
       "4   27   51000          1"
      ]
     },
     "execution_count": 11,
     "metadata": {},
     "output_type": "execute_result"
    }
   ],
   "source": [
    "df=pd.DataFrame(dict1)\n",
    "df.head()"
   ]
  },
  {
   "cell_type": "raw",
   "id": "61964b5b",
   "metadata": {},
   "source": [
    "\n",
    "#when to do feature scaling ? and how ?\n",
    "feature scaling includes the standardization which includes converting the data as\n",
    "mean centring and and std deviation almost equals to one\n",
    "\n",
    "# how to do it ???\n",
    "\n",
    "to do the standardization you need to do the train_test_split first on the data "
   ]
  },
  {
   "cell_type": "code",
   "execution_count": 14,
   "id": "02981f8c",
   "metadata": {},
   "outputs": [],
   "source": [
    "from sklearn.model_selection import train_test_split\n",
    "X_train,X_test,y_train,t_test=train_test_split(df.drop(\"purchesed\",axis=1),df['purchesed'],test_size=0.3,random_state=0)"
   ]
  },
  {
   "cell_type": "code",
   "execution_count": 15,
   "id": "c8865326",
   "metadata": {},
   "outputs": [
    {
     "data": {
      "text/plain": [
       "(15, 3)"
      ]
     },
     "execution_count": 15,
     "metadata": {},
     "output_type": "execute_result"
    }
   ],
   "source": [
    "df.shape"
   ]
  },
  {
   "cell_type": "code",
   "execution_count": 16,
   "id": "eb6a4b45",
   "metadata": {},
   "outputs": [
    {
     "data": {
      "text/plain": [
       "(10, 2)"
      ]
     },
     "execution_count": 16,
     "metadata": {},
     "output_type": "execute_result"
    }
   ],
   "source": [
    "X_train.shape"
   ]
  },
  {
   "cell_type": "code",
   "execution_count": 17,
   "id": "11704dbf",
   "metadata": {},
   "outputs": [
    {
     "data": {
      "text/plain": [
       "(5, 2)"
      ]
     },
     "execution_count": 17,
     "metadata": {},
     "output_type": "execute_result"
    }
   ],
   "source": [
    "X_test.shape"
   ]
  },
  {
   "cell_type": "code",
   "execution_count": 221,
   "id": "b8ad96d6",
   "metadata": {},
   "outputs": [],
   "source": [
    "age_mean=(X_train['age'].mean())\n",
    "agestd_dev=X_train['age'].std()\n",
    "sal_mean=X_train['salary'].mean()\n",
    "sal_std_dev=X_train['salary'].std()\n",
    "\n",
    "age_mean_test=X_test['age'].mean()\n",
    "agestd_dev_test=X_test['age'].std()\n",
    "sal_mean_test=X_test['salary'].mean()\n",
    "sal_std_dev_test=X_test['salary'].std()\n",
    "\n",
    "def standard_scaler(X_train,X_test):\n",
    "        X_train_scaled_age=np.round(X_train.apply(lambda row:(row['age']-age_mean)/agestd_dev,axis=1),2)\n",
    "        X_train_scaled_age.rename(\"age_scaled\",inplace=True)\n",
    "        X_train_scaled_sal=(np.round(X_train.apply(lambda row:(row['salary']-sal_mean)/sal_std_dev,axis=1,),2))\n",
    "        X_train_scaled_sal.rename(\"sal_scaled\",inplace=True)\n",
    "        \n",
    "        X_train_scaleddf=(pd.concat((X_train_scaled_age,X_train_scaled_sal),axis=1))\n",
    "        print(X_train_scaleddf)\n",
    "        \n",
    "        \n",
    "        X_test_scaled_age=np.round(X_test.apply(lambda row:(row['age']-age_mean_test)/agestd_dev_test,axis=1),2)\n",
    "        X_test_scaled_age.rename(\"age_scaled_test\",inplace=True)\n",
    "        X_test_scaled_sal=(np.round(X_test.apply(lambda row:(row['salary']-sal_mean_test)/sal_std_dev_test,axis=1,),2))\n",
    "        X_test_scaled_sal.rename(\"sal_scaled_test\",inplace=True)\n",
    "        \n",
    "        X_test_scaleddf=(pd.concat((X_test_scaled_age,X_test_scaled_sal),axis=1))\n",
    "        print(X_test_scaleddf)\n",
    "        \n",
    "        print(\"\\n\")\n",
    "        print(\"******describtion of the old data *******\")\n",
    "        print(np.round(X_train.describe(),1))\n",
    "        print(np.round(X_test.describe(),1))\n",
    "        \n",
    "        print(\"\\n\")\n",
    "        print(\"******describtion of the newly created data *******\")\n",
    "        print(np.round(X_train_scaleddf.describe(),2))\n",
    "        print(np.round(X_test_scaleddf.describe(),2))\n",
    "        \n",
    "        print(\"\\n\")\n",
    "        \n",
    "        print(\" *******before scaling plot of the data *****\")\n",
    "        plt.subplot(2, 1, 1)\n",
    "        print(plt.scatter(x=X_train['age'],y=X_train['salary']))\n",
    "        plt.xlabel(\"age\")\n",
    "        plt.ylabel(\"salary\")\n",
    "        \n",
    "        \n",
    "        print(\"\\n\")\n",
    "        plt.subplot(2, 1, 2)\n",
    "        print(\" *******after scaling plot of the data *****\")\n",
    "        print(plt.scatter(x=X_train_scaleddf['age_scaled'],y=X_train_scaleddf['sal_scaled']))\n",
    "        plt.xlabel(\"age_scaled\")\n",
    "        plt.ylabel(\"salary_scaled\")\n",
    "        \n",
    "        \n",
    "        \n",
    "        \n",
    "        \n",
    "        \n",
    "        \n",
    "        \n",
    "    "
   ]
  },
  {
   "cell_type": "code",
   "execution_count": 222,
   "id": "7a392edd",
   "metadata": {},
   "outputs": [
    {
     "name": "stdout",
     "output_type": "stream",
     "text": [
      "    age_scaled  sal_scaled\n",
      "4        -0.77       -0.45\n",
      "2        -0.98       -0.58\n",
      "13       -0.25        0.60\n",
      "10        0.89       -0.28\n",
      "7         0.37       -0.31\n",
      "11        1.31        2.58\n",
      "3        -0.56       -0.48\n",
      "0        -1.29       -0.92\n",
      "5        -0.35       -0.36\n",
      "12        1.62        0.21\n",
      "    age_scaled_test  sal_scaled_test\n",
      "1             -1.61            -1.24\n",
      "6              0.06            -0.29\n",
      "8              0.67             1.41\n",
      "9              0.97            -0.38\n",
      "14            -0.09             0.50\n",
      "\n",
      "\n",
      "******describtion of the old data *******\n",
      "        age    salary\n",
      "count  10.0      10.0\n",
      "mean   34.4   77500.0\n",
      "std     9.6   59089.9\n",
      "min    22.0   23000.0\n",
      "25%    27.5   49500.0\n",
      "50%    31.5   57500.0\n",
      "75%    41.8   82750.0\n",
      "max    50.0  230000.0\n",
      "        age    salary\n",
      "count   5.0       5.0\n",
      "mean   34.6   72000.0\n",
      "std     6.6   34007.4\n",
      "min    24.0   30000.0\n",
      "25%    34.0   59000.0\n",
      "50%    35.0   62000.0\n",
      "75%    39.0   89000.0\n",
      "max    41.0  120000.0\n",
      "\n",
      "\n",
      "******describtion of the newly created data *******\n",
      "       age_scaled  sal_scaled\n",
      "count       10.00       10.00\n",
      "mean        -0.00        0.00\n",
      "std          1.00        1.00\n",
      "min         -1.29       -0.92\n",
      "25%         -0.72       -0.47\n",
      "50%         -0.30       -0.34\n",
      "75%          0.76        0.09\n",
      "max          1.62        2.58\n",
      "       age_scaled_test  sal_scaled_test\n",
      "count             5.00             5.00\n",
      "mean             -0.00            -0.00\n",
      "std               1.00             1.00\n",
      "min              -1.61            -1.24\n",
      "25%              -0.09            -0.38\n",
      "50%               0.06            -0.29\n",
      "75%               0.67             0.50\n",
      "max               0.97             1.41\n",
      "\n",
      "\n",
      " *******before scaling plot of the data *****\n",
      "<matplotlib.collections.PathCollection object at 0x00000144AA9F7460>\n",
      "\n",
      "\n",
      " *******after scaling plot of the data *****\n",
      "<matplotlib.collections.PathCollection object at 0x00000144AAA363D0>\n"
     ]
    },
    {
     "data": {
      "image/png": "[encoded data removed]",
      "text/plain": [
       "<Figure size 640x480 with 2 Axes>"
      ]
     },
     "metadata": {},
     "output_type": "display_data"
    }
   ],
   "source": [
    "standard_scaler(X_train,X_test)"
   ]
  },
  {
   "cell_type": "markdown",
   "id": "4d04773b",
   "metadata": {},
   "source": [
    "## using skelarn library"
   ]
  },
  {
   "cell_type": "code",
   "execution_count": 225,
   "id": "bd8e2edb",
   "metadata": {},
   "outputs": [],
   "source": [
    "from sklearn.preprocessing import StandardScaler\n",
    "scaler=StandardScaler()\n",
    "\n",
    "#fit the data which will calculate the mean and the standard deviation for the data \n",
    "scaler.fit(X_train)\n",
    "\n",
    "X_train_scaled=scaler.transform(X_train)\n",
    "X_test_scaled=scaler.transform(X_test)"
   ]
  },
  {
   "cell_type": "code",
   "execution_count": 226,
   "id": "0fb130a6",
   "metadata": {},
   "outputs": [
    {
     "data": {
      "text/plain": [
       "array([3.44e+01, 7.75e+04])"
      ]
     },
     "execution_count": 226,
     "metadata": {},
     "output_type": "execute_result"
    }
   ],
   "source": [
    "scaler.mean_"
   ]
  },
  {
   "cell_type": "code",
   "execution_count": 229,
   "id": "7ec287ad",
   "metadata": {},
   "outputs": [],
   "source": [
    "X_train_scaled=pd.DataFrame(X_train_scaled,columns=X_train.columns)\n",
    "X_test_scaled=pd.DataFrame(X_test_scaled,columns=X_test.columns)\n"
   ]
  },
  {
   "cell_type": "code",
   "execution_count": 231,
   "id": "a801d126",
   "metadata": {},
   "outputs": [
    {
     "name": "stdout",
     "output_type": "stream",
     "text": [
      "         age  salary\n",
      "count  10.00   10.00\n",
      "mean    0.00    0.00\n",
      "std     1.05    1.05\n",
      "min    -1.36   -0.97\n",
      "25%    -0.76   -0.50\n",
      "50%    -0.32   -0.36\n",
      "75%     0.81    0.09\n",
      "max     1.71    2.72\n"
     ]
    }
   ],
   "source": [
    "print(np.round(X_train_scaled.describe(),2))"
   ]
  },
  {
   "cell_type": "code",
   "execution_count": 232,
   "id": "872a272a",
   "metadata": {},
   "outputs": [
    {
     "name": "stdout",
     "output_type": "stream",
     "text": [
      "        age  salary\n",
      "count  5.00    5.00\n",
      "mean   0.02   -0.10\n",
      "std    0.72    0.61\n",
      "min   -1.14   -0.85\n",
      "25%   -0.04   -0.33\n",
      "50%    0.07   -0.28\n",
      "75%    0.50    0.21\n",
      "max    0.72    0.76\n"
     ]
    }
   ],
   "source": [
    "print(np.round(X_test_scaled.describe(),2))"
   ]
  },
  {
   "cell_type": "code",
   "execution_count": 245,
   "id": "ee5df365",
   "metadata": {},
   "outputs": [],
   "source": [
    "df=pd.concat((df,pd.DataFrame({'age':[2,90,100],'salary':[1000,230000,45000],'purchesed':[0,1,1]})),ignore_index=True)"
   ]
  },
  {
   "cell_type": "code",
   "execution_count": 246,
   "id": "6b0abbae",
   "metadata": {},
   "outputs": [],
   "source": [
    "df.drop(columns=['level_0','index'],inplace=True)"
   ]
  },
  {
   "cell_type": "code",
   "execution_count": 247,
   "id": "1274d6b9",
   "metadata": {},
   "outputs": [
    {
     "data": {
      "text/html": [
       "<div>\n",
       "<style scoped>\n",
       "    .dataframe tbody tr th:only-of-type {\n",
       "        vertical-align: middle;\n",
       "    }\n",
       "\n",
       "    .dataframe tbody tr th {\n",
       "        vertical-align: top;\n",
       "    }\n",
       "\n",
       "    .dataframe thead th {\n",
       "        text-align: right;\n",
       "    }\n",
       "</style>\n",
       "<table border=\"1\" class=\"dataframe\">\n",
       "  <thead>\n",
       "    <tr style=\"text-align: right;\">\n",
       "      <th></th>\n",
       "      <th>age</th>\n",
       "      <th>salary</th>\n",
       "      <th>purchesed</th>\n",
       "    </tr>\n",
       "  </thead>\n",
       "  <tbody>\n",
       "    <tr>\n",
       "      <th>0</th>\n",
       "      <td>22</td>\n",
       "      <td>23000</td>\n",
       "      <td>0</td>\n",
       "    </tr>\n",
       "    <tr>\n",
       "      <th>1</th>\n",
       "      <td>24</td>\n",
       "      <td>30000</td>\n",
       "      <td>1</td>\n",
       "    </tr>\n",
       "    <tr>\n",
       "      <th>2</th>\n",
       "      <td>25</td>\n",
       "      <td>43000</td>\n",
       "      <td>1</td>\n",
       "    </tr>\n",
       "    <tr>\n",
       "      <th>3</th>\n",
       "      <td>29</td>\n",
       "      <td>49000</td>\n",
       "      <td>0</td>\n",
       "    </tr>\n",
       "    <tr>\n",
       "      <th>4</th>\n",
       "      <td>27</td>\n",
       "      <td>51000</td>\n",
       "      <td>1</td>\n",
       "    </tr>\n",
       "    <tr>\n",
       "      <th>5</th>\n",
       "      <td>31</td>\n",
       "      <td>56000</td>\n",
       "      <td>0</td>\n",
       "    </tr>\n",
       "    <tr>\n",
       "      <th>6</th>\n",
       "      <td>35</td>\n",
       "      <td>62000</td>\n",
       "      <td>1</td>\n",
       "    </tr>\n",
       "    <tr>\n",
       "      <th>7</th>\n",
       "      <td>38</td>\n",
       "      <td>59000</td>\n",
       "      <td>1</td>\n",
       "    </tr>\n",
       "    <tr>\n",
       "      <th>8</th>\n",
       "      <td>39</td>\n",
       "      <td>120000</td>\n",
       "      <td>1</td>\n",
       "    </tr>\n",
       "    <tr>\n",
       "      <th>9</th>\n",
       "      <td>41</td>\n",
       "      <td>59000</td>\n",
       "      <td>1</td>\n",
       "    </tr>\n",
       "    <tr>\n",
       "      <th>10</th>\n",
       "      <td>43</td>\n",
       "      <td>61000</td>\n",
       "      <td>0</td>\n",
       "    </tr>\n",
       "    <tr>\n",
       "      <th>11</th>\n",
       "      <td>47</td>\n",
       "      <td>230000</td>\n",
       "      <td>0</td>\n",
       "    </tr>\n",
       "    <tr>\n",
       "      <th>12</th>\n",
       "      <td>50</td>\n",
       "      <td>90000</td>\n",
       "      <td>1</td>\n",
       "    </tr>\n",
       "    <tr>\n",
       "      <th>13</th>\n",
       "      <td>32</td>\n",
       "      <td>113000</td>\n",
       "      <td>0</td>\n",
       "    </tr>\n",
       "    <tr>\n",
       "      <th>14</th>\n",
       "      <td>34</td>\n",
       "      <td>89000</td>\n",
       "      <td>1</td>\n",
       "    </tr>\n",
       "    <tr>\n",
       "      <th>15</th>\n",
       "      <td>2</td>\n",
       "      <td>1000</td>\n",
       "      <td>0</td>\n",
       "    </tr>\n",
       "    <tr>\n",
       "      <th>16</th>\n",
       "      <td>90</td>\n",
       "      <td>230000</td>\n",
       "      <td>1</td>\n",
       "    </tr>\n",
       "    <tr>\n",
       "      <th>17</th>\n",
       "      <td>100</td>\n",
       "      <td>45000</td>\n",
       "      <td>1</td>\n",
       "    </tr>\n",
       "    <tr>\n",
       "      <th>18</th>\n",
       "      <td>2</td>\n",
       "      <td>1000</td>\n",
       "      <td>0</td>\n",
       "    </tr>\n",
       "    <tr>\n",
       "      <th>19</th>\n",
       "      <td>90</td>\n",
       "      <td>230000</td>\n",
       "      <td>1</td>\n",
       "    </tr>\n",
       "    <tr>\n",
       "      <th>20</th>\n",
       "      <td>100</td>\n",
       "      <td>45000</td>\n",
       "      <td>1</td>\n",
       "    </tr>\n",
       "    <tr>\n",
       "      <th>21</th>\n",
       "      <td>2</td>\n",
       "      <td>1000</td>\n",
       "      <td>0</td>\n",
       "    </tr>\n",
       "    <tr>\n",
       "      <th>22</th>\n",
       "      <td>90</td>\n",
       "      <td>230000</td>\n",
       "      <td>1</td>\n",
       "    </tr>\n",
       "    <tr>\n",
       "      <th>23</th>\n",
       "      <td>100</td>\n",
       "      <td>45000</td>\n",
       "      <td>1</td>\n",
       "    </tr>\n",
       "    <tr>\n",
       "      <th>24</th>\n",
       "      <td>2</td>\n",
       "      <td>1000</td>\n",
       "      <td>0</td>\n",
       "    </tr>\n",
       "    <tr>\n",
       "      <th>25</th>\n",
       "      <td>90</td>\n",
       "      <td>230000</td>\n",
       "      <td>1</td>\n",
       "    </tr>\n",
       "    <tr>\n",
       "      <th>26</th>\n",
       "      <td>100</td>\n",
       "      <td>45000</td>\n",
       "      <td>1</td>\n",
       "    </tr>\n",
       "    <tr>\n",
       "      <th>27</th>\n",
       "      <td>2</td>\n",
       "      <td>1000</td>\n",
       "      <td>0</td>\n",
       "    </tr>\n",
       "    <tr>\n",
       "      <th>28</th>\n",
       "      <td>90</td>\n",
       "      <td>230000</td>\n",
       "      <td>1</td>\n",
       "    </tr>\n",
       "    <tr>\n",
       "      <th>29</th>\n",
       "      <td>100</td>\n",
       "      <td>45000</td>\n",
       "      <td>1</td>\n",
       "    </tr>\n",
       "  </tbody>\n",
       "</table>\n",
       "</div>"
      ],
      "text/plain": [
       "    age  salary  purchesed\n",
       "0    22   23000          0\n",
       "1    24   30000          1\n",
       "2    25   43000          1\n",
       "3    29   49000          0\n",
       "4    27   51000          1\n",
       "5    31   56000          0\n",
       "6    35   62000          1\n",
       "7    38   59000          1\n",
       "8    39  120000          1\n",
       "9    41   59000          1\n",
       "10   43   61000          0\n",
       "11   47  230000          0\n",
       "12   50   90000          1\n",
       "13   32  113000          0\n",
       "14   34   89000          1\n",
       "15    2    1000          0\n",
       "16   90  230000          1\n",
       "17  100   45000          1\n",
       "18    2    1000          0\n",
       "19   90  230000          1\n",
       "20  100   45000          1\n",
       "21    2    1000          0\n",
       "22   90  230000          1\n",
       "23  100   45000          1\n",
       "24    2    1000          0\n",
       "25   90  230000          1\n",
       "26  100   45000          1\n",
       "27    2    1000          0\n",
       "28   90  230000          1\n",
       "29  100   45000          1"
      ]
     },
     "execution_count": 247,
     "metadata": {},
     "output_type": "execute_result"
    }
   ],
   "source": [
    "df"
   ]
  },
  {
   "cell_type": "code",
   "execution_count": 248,
   "id": "bf0fb1c2",
   "metadata": {},
   "outputs": [
    {
     "data": {
      "text/html": [
       "<div>\n",
       "<style scoped>\n",
       "    .dataframe tbody tr th:only-of-type {\n",
       "        vertical-align: middle;\n",
       "    }\n",
       "\n",
       "    .dataframe tbody tr th {\n",
       "        vertical-align: top;\n",
       "    }\n",
       "\n",
       "    .dataframe thead th {\n",
       "        text-align: right;\n",
       "    }\n",
       "</style>\n",
       "<table border=\"1\" class=\"dataframe\">\n",
       "  <thead>\n",
       "    <tr style=\"text-align: right;\">\n",
       "      <th></th>\n",
       "      <th>age</th>\n",
       "      <th>salary</th>\n",
       "      <th>purchesed</th>\n",
       "    </tr>\n",
       "  </thead>\n",
       "  <tbody>\n",
       "    <tr>\n",
       "      <th>count</th>\n",
       "      <td>30.000000</td>\n",
       "      <td>30.000000</td>\n",
       "      <td>30.000000</td>\n",
       "    </tr>\n",
       "    <tr>\n",
       "      <th>mean</th>\n",
       "      <td>49.233333</td>\n",
       "      <td>83833.333333</td>\n",
       "      <td>0.633333</td>\n",
       "    </tr>\n",
       "    <tr>\n",
       "      <th>std</th>\n",
       "      <td>35.538889</td>\n",
       "      <td>80047.866427</td>\n",
       "      <td>0.490133</td>\n",
       "    </tr>\n",
       "    <tr>\n",
       "      <th>min</th>\n",
       "      <td>2.000000</td>\n",
       "      <td>1000.000000</td>\n",
       "      <td>0.000000</td>\n",
       "    </tr>\n",
       "    <tr>\n",
       "      <th>25%</th>\n",
       "      <td>25.500000</td>\n",
       "      <td>43500.000000</td>\n",
       "      <td>0.000000</td>\n",
       "    </tr>\n",
       "    <tr>\n",
       "      <th>50%</th>\n",
       "      <td>38.500000</td>\n",
       "      <td>53500.000000</td>\n",
       "      <td>1.000000</td>\n",
       "    </tr>\n",
       "    <tr>\n",
       "      <th>75%</th>\n",
       "      <td>90.000000</td>\n",
       "      <td>107250.000000</td>\n",
       "      <td>1.000000</td>\n",
       "    </tr>\n",
       "    <tr>\n",
       "      <th>max</th>\n",
       "      <td>100.000000</td>\n",
       "      <td>230000.000000</td>\n",
       "      <td>1.000000</td>\n",
       "    </tr>\n",
       "  </tbody>\n",
       "</table>\n",
       "</div>"
      ],
      "text/plain": [
       "              age         salary  purchesed\n",
       "count   30.000000      30.000000  30.000000\n",
       "mean    49.233333   83833.333333   0.633333\n",
       "std     35.538889   80047.866427   0.490133\n",
       "min      2.000000    1000.000000   0.000000\n",
       "25%     25.500000   43500.000000   0.000000\n",
       "50%     38.500000   53500.000000   1.000000\n",
       "75%     90.000000  107250.000000   1.000000\n",
       "max    100.000000  230000.000000   1.000000"
      ]
     },
     "execution_count": 248,
     "metadata": {},
     "output_type": "execute_result"
    }
   ],
   "source": [
    "df.describe()"
   ]
  },
  {
   "cell_type": "code",
   "execution_count": 249,
   "id": "7c31d09e",
   "metadata": {},
   "outputs": [
    {
     "data": {
      "text/plain": [
       "<AxesSubplot:xlabel='age'>"
      ]
     },
     "execution_count": 249,
     "metadata": {},
     "output_type": "execute_result"
    },
    {
     "data": {
      "image/png": "[encoded data removed]",
      "text/plain": [
       "<Figure size 640x480 with 1 Axes>"
      ]
     },
     "metadata": {},
     "output_type": "display_data"
    }
   ],
   "source": [
    "sns.boxplot(data=df,x=df['age'])"
   ]
  },
  {
   "cell_type": "code",
   "execution_count": 251,
   "id": "5121c435",
   "metadata": {},
   "outputs": [
    {
     "data": {
      "text/html": [
       "<div>\n",
       "<style scoped>\n",
       "    .dataframe tbody tr th:only-of-type {\n",
       "        vertical-align: middle;\n",
       "    }\n",
       "\n",
       "    .dataframe tbody tr th {\n",
       "        vertical-align: top;\n",
       "    }\n",
       "\n",
       "    .dataframe thead th {\n",
       "        text-align: right;\n",
       "    }\n",
       "</style>\n",
       "<table border=\"1\" class=\"dataframe\">\n",
       "  <thead>\n",
       "    <tr style=\"text-align: right;\">\n",
       "      <th></th>\n",
       "      <th>fixed acidity</th>\n",
       "      <th>volatile acidity</th>\n",
       "      <th>citric acid</th>\n",
       "      <th>residual sugar</th>\n",
       "      <th>chlorides</th>\n",
       "      <th>free sulfur dioxide</th>\n",
       "      <th>total sulfur dioxide</th>\n",
       "      <th>density</th>\n",
       "      <th>pH</th>\n",
       "      <th>sulphates</th>\n",
       "      <th>alcohol</th>\n",
       "      <th>quality</th>\n",
       "    </tr>\n",
       "  </thead>\n",
       "  <tbody>\n",
       "    <tr>\n",
       "      <th>0</th>\n",
       "      <td>7.4</td>\n",
       "      <td>0.70</td>\n",
       "      <td>0.00</td>\n",
       "      <td>1.9</td>\n",
       "      <td>0.076</td>\n",
       "      <td>11.0</td>\n",
       "      <td>34.0</td>\n",
       "      <td>0.9978</td>\n",
       "      <td>3.51</td>\n",
       "      <td>0.56</td>\n",
       "      <td>9.4</td>\n",
       "      <td>5</td>\n",
       "    </tr>\n",
       "    <tr>\n",
       "      <th>1</th>\n",
       "      <td>7.8</td>\n",
       "      <td>0.88</td>\n",
       "      <td>0.00</td>\n",
       "      <td>2.6</td>\n",
       "      <td>0.098</td>\n",
       "      <td>25.0</td>\n",
       "      <td>67.0</td>\n",
       "      <td>0.9968</td>\n",
       "      <td>3.20</td>\n",
       "      <td>0.68</td>\n",
       "      <td>9.8</td>\n",
       "      <td>5</td>\n",
       "    </tr>\n",
       "    <tr>\n",
       "      <th>2</th>\n",
       "      <td>7.8</td>\n",
       "      <td>0.76</td>\n",
       "      <td>0.04</td>\n",
       "      <td>2.3</td>\n",
       "      <td>0.092</td>\n",
       "      <td>15.0</td>\n",
       "      <td>54.0</td>\n",
       "      <td>0.9970</td>\n",
       "      <td>3.26</td>\n",
       "      <td>0.65</td>\n",
       "      <td>9.8</td>\n",
       "      <td>5</td>\n",
       "    </tr>\n",
       "    <tr>\n",
       "      <th>3</th>\n",
       "      <td>11.2</td>\n",
       "      <td>0.28</td>\n",
       "      <td>0.56</td>\n",
       "      <td>1.9</td>\n",
       "      <td>0.075</td>\n",
       "      <td>17.0</td>\n",
       "      <td>60.0</td>\n",
       "      <td>0.9980</td>\n",
       "      <td>3.16</td>\n",
       "      <td>0.58</td>\n",
       "      <td>9.8</td>\n",
       "      <td>6</td>\n",
       "    </tr>\n",
       "    <tr>\n",
       "      <th>4</th>\n",
       "      <td>7.4</td>\n",
       "      <td>0.70</td>\n",
       "      <td>0.00</td>\n",
       "      <td>1.9</td>\n",
       "      <td>0.076</td>\n",
       "      <td>11.0</td>\n",
       "      <td>34.0</td>\n",
       "      <td>0.9978</td>\n",
       "      <td>3.51</td>\n",
       "      <td>0.56</td>\n",
       "      <td>9.4</td>\n",
       "      <td>5</td>\n",
       "    </tr>\n",
       "  </tbody>\n",
       "</table>\n",
       "</div>"
      ],
      "text/plain": [
       "   fixed acidity  volatile acidity  citric acid  residual sugar  chlorides  \\\n",
       "0            7.4              0.70         0.00             1.9      0.076   \n",
       "1            7.8              0.88         0.00             2.6      0.098   \n",
       "2            7.8              0.76         0.04             2.3      0.092   \n",
       "3           11.2              0.28         0.56             1.9      0.075   \n",
       "4            7.4              0.70         0.00             1.9      0.076   \n",
       "\n",
       "   free sulfur dioxide  total sulfur dioxide  density    pH  sulphates  \\\n",
       "0                 11.0                  34.0   0.9978  3.51       0.56   \n",
       "1                 25.0                  67.0   0.9968  3.20       0.68   \n",
       "2                 15.0                  54.0   0.9970  3.26       0.65   \n",
       "3                 17.0                  60.0   0.9980  3.16       0.58   \n",
       "4                 11.0                  34.0   0.9978  3.51       0.56   \n",
       "\n",
       "   alcohol  quality  \n",
       "0      9.4        5  \n",
       "1      9.8        5  \n",
       "2      9.8        5  \n",
       "3      9.8        6  \n",
       "4      9.4        5  "
      ]
     },
     "execution_count": 251,
     "metadata": {},
     "output_type": "execute_result"
    }
   ],
   "source": [
    "df=pd.read_csv(r\"C:\\Users\\2174052\\Desktop\\winequality_red.csv\")\n",
    "df.head()"
   ]
  },
  {
   "cell_type": "code",
   "execution_count": 252,
   "id": "06f74db5",
   "metadata": {},
   "outputs": [
    {
     "data": {
      "text/plain": [
       "Index(['fixed acidity', 'volatile acidity', 'citric acid', 'residual sugar',\n",
       "       'chlorides', 'free sulfur dioxide', 'total sulfur dioxide', 'density',\n",
       "       'pH', 'sulphates', 'alcohol', 'quality'],\n",
       "      dtype='object')"
      ]
     },
     "execution_count": 252,
     "metadata": {},
     "output_type": "execute_result"
    }
   ],
   "source": [
    "df.columns"
   ]
  },
  {
   "cell_type": "code",
   "execution_count": 265,
   "id": "cd77f5e1",
   "metadata": {},
   "outputs": [
    {
     "data": {
      "text/html": [
       "<div>\n",
       "<style scoped>\n",
       "    .dataframe tbody tr th:only-of-type {\n",
       "        vertical-align: middle;\n",
       "    }\n",
       "\n",
       "    .dataframe tbody tr th {\n",
       "        vertical-align: top;\n",
       "    }\n",
       "\n",
       "    .dataframe thead th {\n",
       "        text-align: right;\n",
       "    }\n",
       "</style>\n",
       "<table border=\"1\" class=\"dataframe\">\n",
       "  <thead>\n",
       "    <tr style=\"text-align: right;\">\n",
       "      <th></th>\n",
       "      <th>total sulfur dioxide</th>\n",
       "      <th>density</th>\n",
       "      <th>alcohol</th>\n",
       "      <th>quality</th>\n",
       "    </tr>\n",
       "  </thead>\n",
       "  <tbody>\n",
       "    <tr>\n",
       "      <th>0</th>\n",
       "      <td>34.0</td>\n",
       "      <td>0.99780</td>\n",
       "      <td>9.4</td>\n",
       "      <td>5</td>\n",
       "    </tr>\n",
       "    <tr>\n",
       "      <th>1</th>\n",
       "      <td>67.0</td>\n",
       "      <td>0.99680</td>\n",
       "      <td>9.8</td>\n",
       "      <td>5</td>\n",
       "    </tr>\n",
       "    <tr>\n",
       "      <th>2</th>\n",
       "      <td>54.0</td>\n",
       "      <td>0.99700</td>\n",
       "      <td>9.8</td>\n",
       "      <td>5</td>\n",
       "    </tr>\n",
       "    <tr>\n",
       "      <th>3</th>\n",
       "      <td>60.0</td>\n",
       "      <td>0.99800</td>\n",
       "      <td>9.8</td>\n",
       "      <td>6</td>\n",
       "    </tr>\n",
       "    <tr>\n",
       "      <th>4</th>\n",
       "      <td>34.0</td>\n",
       "      <td>0.99780</td>\n",
       "      <td>9.4</td>\n",
       "      <td>5</td>\n",
       "    </tr>\n",
       "    <tr>\n",
       "      <th>...</th>\n",
       "      <td>...</td>\n",
       "      <td>...</td>\n",
       "      <td>...</td>\n",
       "      <td>...</td>\n",
       "    </tr>\n",
       "    <tr>\n",
       "      <th>1594</th>\n",
       "      <td>44.0</td>\n",
       "      <td>0.99490</td>\n",
       "      <td>10.5</td>\n",
       "      <td>5</td>\n",
       "    </tr>\n",
       "    <tr>\n",
       "      <th>1595</th>\n",
       "      <td>51.0</td>\n",
       "      <td>0.99512</td>\n",
       "      <td>11.2</td>\n",
       "      <td>6</td>\n",
       "    </tr>\n",
       "    <tr>\n",
       "      <th>1596</th>\n",
       "      <td>40.0</td>\n",
       "      <td>0.99574</td>\n",
       "      <td>11.0</td>\n",
       "      <td>6</td>\n",
       "    </tr>\n",
       "    <tr>\n",
       "      <th>1597</th>\n",
       "      <td>44.0</td>\n",
       "      <td>0.99547</td>\n",
       "      <td>10.2</td>\n",
       "      <td>5</td>\n",
       "    </tr>\n",
       "    <tr>\n",
       "      <th>1598</th>\n",
       "      <td>42.0</td>\n",
       "      <td>0.99549</td>\n",
       "      <td>11.0</td>\n",
       "      <td>6</td>\n",
       "    </tr>\n",
       "  </tbody>\n",
       "</table>\n",
       "<p>1599 rows × 4 columns</p>\n",
       "</div>"
      ],
      "text/plain": [
       "      total sulfur dioxide  density  alcohol  quality\n",
       "0                     34.0  0.99780      9.4        5\n",
       "1                     67.0  0.99680      9.8        5\n",
       "2                     54.0  0.99700      9.8        5\n",
       "3                     60.0  0.99800      9.8        6\n",
       "4                     34.0  0.99780      9.4        5\n",
       "...                    ...      ...      ...      ...\n",
       "1594                  44.0  0.99490     10.5        5\n",
       "1595                  51.0  0.99512     11.2        6\n",
       "1596                  40.0  0.99574     11.0        6\n",
       "1597                  44.0  0.99547     10.2        5\n",
       "1598                  42.0  0.99549     11.0        6\n",
       "\n",
       "[1599 rows x 4 columns]"
      ]
     },
     "execution_count": 265,
     "metadata": {},
     "output_type": "execute_result"
    }
   ],
   "source": [
    "new_df=df[['total sulfur dioxide','density','alcohol','quality']]\n",
    "new_df"
   ]
  },
  {
   "cell_type": "code",
   "execution_count": 266,
   "id": "87656682",
   "metadata": {},
   "outputs": [
    {
     "data": {
      "text/plain": [
       "<AxesSubplot:xlabel='alcohol', ylabel='Density'>"
      ]
     },
     "execution_count": 266,
     "metadata": {},
     "output_type": "execute_result"
    },
    {
     "data": {
      "image/png": "[encoded data removed]",
      "text/plain": [
       "<Figure size 640x480 with 1 Axes>"
      ]
     },
     "metadata": {},
     "output_type": "display_data"
    }
   ],
   "source": [
    "sns.kdeplot(df['alcohol'])"
   ]
  },
  {
   "cell_type": "code",
   "execution_count": 267,
   "id": "a770d859",
   "metadata": {},
   "outputs": [
    {
     "data": {
      "text/plain": [
       "<AxesSubplot:xlabel='total sulfur dioxide', ylabel='Density'>"
      ]
     },
     "execution_count": 267,
     "metadata": {},
     "output_type": "execute_result"
    },
    {
     "data": {
      "image/png": "[encoded data removed]",
      "text/plain": [
       "<Figure size 640x480 with 1 Axes>"
      ]
     },
     "metadata": {},
     "output_type": "display_data"
    }
   ],
   "source": [
    "sns.kdeplot(data=df,x=df['total sulfur dioxide'])"
   ]
  },
  {
   "cell_type": "code",
   "execution_count": 268,
   "id": "3d5ca0bf",
   "metadata": {},
   "outputs": [
    {
     "data": {
      "text/plain": [
       "<AxesSubplot:xlabel='density', ylabel='Density'>"
      ]
     },
     "execution_count": 268,
     "metadata": {},
     "output_type": "execute_result"
    },
    {
     "data": {
      "image/png": "[encoded data removed]",
      "text/plain": [
       "<Figure size 640x480 with 1 Axes>"
      ]
     },
     "metadata": {},
     "output_type": "display_data"
    }
   ],
   "source": [
    "sns.kdeplot(data=df,x=df['density'])"
   ]
  },
  {
   "cell_type": "code",
   "execution_count": 269,
   "id": "18a88dec",
   "metadata": {},
   "outputs": [
    {
     "data": {
      "text/plain": [
       "<AxesSubplot:xlabel='alcohol', ylabel='total sulfur dioxide'>"
      ]
     },
     "execution_count": 269,
     "metadata": {},
     "output_type": "execute_result"
    },
    {
     "data": {
      "image/png": "[encoded data removed]",
      "text/plain": [
       "<Figure size 640x480 with 1 Axes>"
      ]
     },
     "metadata": {},
     "output_type": "display_data"
    }
   ],
   "source": [
    "sns.scatterplot(data=df,x=df['alcohol'],y=df['total sulfur dioxide'])"
   ]
  },
  {
   "cell_type": "code",
   "execution_count": 270,
   "id": "eceb8e58",
   "metadata": {},
   "outputs": [
    {
     "data": {
      "text/plain": [
       "count    1599.00\n",
       "mean       10.42\n",
       "std         1.07\n",
       "min         8.40\n",
       "25%         9.50\n",
       "50%        10.20\n",
       "75%        11.10\n",
       "max        14.90\n",
       "Name: alcohol, dtype: float64"
      ]
     },
     "execution_count": 270,
     "metadata": {},
     "output_type": "execute_result"
    }
   ],
   "source": [
    "np.round(new_df['alcohol'].describe(),2)"
   ]
  },
  {
   "cell_type": "code",
   "execution_count": 271,
   "id": "c5bff25e",
   "metadata": {},
   "outputs": [
    {
     "data": {
      "text/plain": [
       "count    1599.00\n",
       "mean       46.47\n",
       "std        32.90\n",
       "min         6.00\n",
       "25%        22.00\n",
       "50%        38.00\n",
       "75%        62.00\n",
       "max       289.00\n",
       "Name: total sulfur dioxide, dtype: float64"
      ]
     },
     "execution_count": 271,
     "metadata": {},
     "output_type": "execute_result"
    }
   ],
   "source": [
    "np.round(new_df['total sulfur dioxide'].describe(),2)"
   ]
  },
  {
   "cell_type": "code",
   "execution_count": 272,
   "id": "ef8402bf",
   "metadata": {},
   "outputs": [],
   "source": [
    "from sklearn.model_selection import train_test_split\n",
    "X_train,X_test,y_train,y_test=train_test_split(new_df.drop('quality',axis=1),df['quality'],test_size=0.3,random_state=0)"
   ]
  },
  {
   "cell_type": "code",
   "execution_count": 273,
   "id": "1eea64d6",
   "metadata": {},
   "outputs": [
    {
     "data": {
      "text/plain": [
       "(1119, 3)"
      ]
     },
     "execution_count": 273,
     "metadata": {},
     "output_type": "execute_result"
    }
   ],
   "source": [
    "X_train.shape"
   ]
  },
  {
   "cell_type": "code",
   "execution_count": 274,
   "id": "6863c98f",
   "metadata": {},
   "outputs": [
    {
     "data": {
      "text/plain": [
       "(480, 3)"
      ]
     },
     "execution_count": 274,
     "metadata": {},
     "output_type": "execute_result"
    }
   ],
   "source": [
    "X_test.shape"
   ]
  },
  {
   "cell_type": "markdown",
   "id": "942d740c",
   "metadata": {},
   "source": [
    "# minmaxscaling "
   ]
  },
  {
   "cell_type": "code",
   "execution_count": 287,
   "id": "5cf272e4",
   "metadata": {},
   "outputs": [
    {
     "data": {
      "text/plain": [
       "MinMaxScaler()"
      ]
     },
     "execution_count": 287,
     "metadata": {},
     "output_type": "execute_result"
    }
   ],
   "source": [
    "from sklearn.preprocessing import MinMaxScaler\n",
    "minmaxscale=MinMaxScaler()\n",
    "minmaxscale.fit(X_train)"
   ]
  },
  {
   "cell_type": "code",
   "execution_count": 288,
   "id": "cf2bd25d",
   "metadata": {},
   "outputs": [],
   "source": [
    "X_train_scaled_df=minmaxscale.transform(X_train)\n",
    "X_test_scaled_df=minmaxscale.transform(X_test)"
   ]
  },
  {
   "cell_type": "code",
   "execution_count": 290,
   "id": "4e53ad5b",
   "metadata": {},
   "outputs": [
    {
     "data": {
      "text/plain": [
       "array([[0.44876325, 0.52349486, 0.21538462],\n",
       "       [0.3639576 , 0.        , 0.66153846],\n",
       "       [0.11660777, 0.50954479, 0.2       ],\n",
       "       ...,\n",
       "       [0.25795053, 0.49192364, 0.16923077],\n",
       "       [0.14487633, 0.88325991, 0.66153846],\n",
       "       [0.51590106, 0.58223201, 0.15384615]])"
      ]
     },
     "execution_count": 290,
     "metadata": {},
     "output_type": "execute_result"
    }
   ],
   "source": [
    "X_train_scaled_df"
   ]
  },
  {
   "cell_type": "code",
   "execution_count": 291,
   "id": "3fc7b9aa",
   "metadata": {},
   "outputs": [
    {
     "data": {
      "text/plain": [
       "array([[0.21201413, 0.5969163 , 0.36923077],\n",
       "       [0.02826855, 0.62187959, 0.18461538],\n",
       "       [0.07420495, 0.37371512, 0.50769231],\n",
       "       ...,\n",
       "       [0.21201413, 0.53817915, 0.12307692],\n",
       "       [0.03180212, 0.36049927, 0.30769231],\n",
       "       [0.14840989, 0.55286344, 0.15384615]])"
      ]
     },
     "execution_count": 291,
     "metadata": {},
     "output_type": "execute_result"
    }
   ],
   "source": [
    "X_test_scaled_df"
   ]
  },
  {
   "cell_type": "code",
   "execution_count": 295,
   "id": "80516416",
   "metadata": {},
   "outputs": [],
   "source": [
    "X_test_scaled_df=pd.DataFrame(data=X_test_scaled_df,columns=X_test.columns)"
   ]
  },
  {
   "cell_type": "code",
   "execution_count": 296,
   "id": "5a0c7d8e",
   "metadata": {},
   "outputs": [
    {
     "data": {
      "text/html": [
       "<div>\n",
       "<style scoped>\n",
       "    .dataframe tbody tr th:only-of-type {\n",
       "        vertical-align: middle;\n",
       "    }\n",
       "\n",
       "    .dataframe tbody tr th {\n",
       "        vertical-align: top;\n",
       "    }\n",
       "\n",
       "    .dataframe thead th {\n",
       "        text-align: right;\n",
       "    }\n",
       "</style>\n",
       "<table border=\"1\" class=\"dataframe\">\n",
       "  <thead>\n",
       "    <tr style=\"text-align: right;\">\n",
       "      <th></th>\n",
       "      <th>total sulfur dioxide</th>\n",
       "      <th>density</th>\n",
       "      <th>alcohol</th>\n",
       "    </tr>\n",
       "  </thead>\n",
       "  <tbody>\n",
       "    <tr>\n",
       "      <th>0</th>\n",
       "      <td>0.212014</td>\n",
       "      <td>0.596916</td>\n",
       "      <td>0.369231</td>\n",
       "    </tr>\n",
       "    <tr>\n",
       "      <th>1</th>\n",
       "      <td>0.028269</td>\n",
       "      <td>0.621880</td>\n",
       "      <td>0.184615</td>\n",
       "    </tr>\n",
       "    <tr>\n",
       "      <th>2</th>\n",
       "      <td>0.074205</td>\n",
       "      <td>0.373715</td>\n",
       "      <td>0.507692</td>\n",
       "    </tr>\n",
       "    <tr>\n",
       "      <th>3</th>\n",
       "      <td>0.028269</td>\n",
       "      <td>0.596916</td>\n",
       "      <td>0.246154</td>\n",
       "    </tr>\n",
       "    <tr>\n",
       "      <th>4</th>\n",
       "      <td>0.000000</td>\n",
       "      <td>0.501468</td>\n",
       "      <td>0.307692</td>\n",
       "    </tr>\n",
       "    <tr>\n",
       "      <th>...</th>\n",
       "      <td>...</td>\n",
       "      <td>...</td>\n",
       "      <td>...</td>\n",
       "    </tr>\n",
       "    <tr>\n",
       "      <th>475</th>\n",
       "      <td>0.038869</td>\n",
       "      <td>0.534508</td>\n",
       "      <td>0.246154</td>\n",
       "    </tr>\n",
       "    <tr>\n",
       "      <th>476</th>\n",
       "      <td>0.374558</td>\n",
       "      <td>0.494126</td>\n",
       "      <td>0.138462</td>\n",
       "    </tr>\n",
       "    <tr>\n",
       "      <th>477</th>\n",
       "      <td>0.212014</td>\n",
       "      <td>0.538179</td>\n",
       "      <td>0.123077</td>\n",
       "    </tr>\n",
       "    <tr>\n",
       "      <th>478</th>\n",
       "      <td>0.031802</td>\n",
       "      <td>0.360499</td>\n",
       "      <td>0.307692</td>\n",
       "    </tr>\n",
       "    <tr>\n",
       "      <th>479</th>\n",
       "      <td>0.148410</td>\n",
       "      <td>0.552863</td>\n",
       "      <td>0.153846</td>\n",
       "    </tr>\n",
       "  </tbody>\n",
       "</table>\n",
       "<p>480 rows × 3 columns</p>\n",
       "</div>"
      ],
      "text/plain": [
       "     total sulfur dioxide   density   alcohol\n",
       "0                0.212014  0.596916  0.369231\n",
       "1                0.028269  0.621880  0.184615\n",
       "2                0.074205  0.373715  0.507692\n",
       "3                0.028269  0.596916  0.246154\n",
       "4                0.000000  0.501468  0.307692\n",
       "..                    ...       ...       ...\n",
       "475              0.038869  0.534508  0.246154\n",
       "476              0.374558  0.494126  0.138462\n",
       "477              0.212014  0.538179  0.123077\n",
       "478              0.031802  0.360499  0.307692\n",
       "479              0.148410  0.552863  0.153846\n",
       "\n",
       "[480 rows x 3 columns]"
      ]
     },
     "execution_count": 296,
     "metadata": {},
     "output_type": "execute_result"
    }
   ],
   "source": [
    "X_test_scaled_df"
   ]
  },
  {
   "cell_type": "code",
   "execution_count": 297,
   "id": "fca15cf0",
   "metadata": {},
   "outputs": [
    {
     "data": {
      "text/html": [
       "<div>\n",
       "<style scoped>\n",
       "    .dataframe tbody tr th:only-of-type {\n",
       "        vertical-align: middle;\n",
       "    }\n",
       "\n",
       "    .dataframe tbody tr th {\n",
       "        vertical-align: top;\n",
       "    }\n",
       "\n",
       "    .dataframe thead th {\n",
       "        text-align: right;\n",
       "    }\n",
       "</style>\n",
       "<table border=\"1\" class=\"dataframe\">\n",
       "  <thead>\n",
       "    <tr style=\"text-align: right;\">\n",
       "      <th></th>\n",
       "      <th>total sulfur dioxide</th>\n",
       "      <th>density</th>\n",
       "      <th>alcohol</th>\n",
       "    </tr>\n",
       "  </thead>\n",
       "  <tbody>\n",
       "    <tr>\n",
       "      <th>0</th>\n",
       "      <td>0.448763</td>\n",
       "      <td>0.523495</td>\n",
       "      <td>0.215385</td>\n",
       "    </tr>\n",
       "    <tr>\n",
       "      <th>1</th>\n",
       "      <td>0.363958</td>\n",
       "      <td>0.000000</td>\n",
       "      <td>0.661538</td>\n",
       "    </tr>\n",
       "    <tr>\n",
       "      <th>2</th>\n",
       "      <td>0.116608</td>\n",
       "      <td>0.509545</td>\n",
       "      <td>0.200000</td>\n",
       "    </tr>\n",
       "    <tr>\n",
       "      <th>3</th>\n",
       "      <td>0.077739</td>\n",
       "      <td>0.488253</td>\n",
       "      <td>0.430769</td>\n",
       "    </tr>\n",
       "    <tr>\n",
       "      <th>4</th>\n",
       "      <td>0.286219</td>\n",
       "      <td>0.567548</td>\n",
       "      <td>0.323077</td>\n",
       "    </tr>\n",
       "    <tr>\n",
       "      <th>...</th>\n",
       "      <td>...</td>\n",
       "      <td>...</td>\n",
       "      <td>...</td>\n",
       "    </tr>\n",
       "    <tr>\n",
       "      <th>1114</th>\n",
       "      <td>0.102473</td>\n",
       "      <td>0.536711</td>\n",
       "      <td>0.184615</td>\n",
       "    </tr>\n",
       "    <tr>\n",
       "      <th>1115</th>\n",
       "      <td>0.173145</td>\n",
       "      <td>0.475771</td>\n",
       "      <td>0.138462</td>\n",
       "    </tr>\n",
       "    <tr>\n",
       "      <th>1116</th>\n",
       "      <td>0.257951</td>\n",
       "      <td>0.491924</td>\n",
       "      <td>0.169231</td>\n",
       "    </tr>\n",
       "    <tr>\n",
       "      <th>1117</th>\n",
       "      <td>0.144876</td>\n",
       "      <td>0.883260</td>\n",
       "      <td>0.661538</td>\n",
       "    </tr>\n",
       "    <tr>\n",
       "      <th>1118</th>\n",
       "      <td>0.515901</td>\n",
       "      <td>0.582232</td>\n",
       "      <td>0.153846</td>\n",
       "    </tr>\n",
       "  </tbody>\n",
       "</table>\n",
       "<p>1119 rows × 3 columns</p>\n",
       "</div>"
      ],
      "text/plain": [
       "      total sulfur dioxide   density   alcohol\n",
       "0                 0.448763  0.523495  0.215385\n",
       "1                 0.363958  0.000000  0.661538\n",
       "2                 0.116608  0.509545  0.200000\n",
       "3                 0.077739  0.488253  0.430769\n",
       "4                 0.286219  0.567548  0.323077\n",
       "...                    ...       ...       ...\n",
       "1114              0.102473  0.536711  0.184615\n",
       "1115              0.173145  0.475771  0.138462\n",
       "1116              0.257951  0.491924  0.169231\n",
       "1117              0.144876  0.883260  0.661538\n",
       "1118              0.515901  0.582232  0.153846\n",
       "\n",
       "[1119 rows x 3 columns]"
      ]
     },
     "execution_count": 297,
     "metadata": {},
     "output_type": "execute_result"
    }
   ],
   "source": [
    "X_train_scaled_df=pd.DataFrame(data=X_train_scaled_df,columns=X_train.columns)\n",
    "X_train_scaled_df"
   ]
  },
  {
   "cell_type": "code",
   "execution_count": 298,
   "id": "745485b9",
   "metadata": {},
   "outputs": [
    {
     "data": {
      "text/html": [
       "<div>\n",
       "<style scoped>\n",
       "    .dataframe tbody tr th:only-of-type {\n",
       "        vertical-align: middle;\n",
       "    }\n",
       "\n",
       "    .dataframe tbody tr th {\n",
       "        vertical-align: top;\n",
       "    }\n",
       "\n",
       "    .dataframe thead th {\n",
       "        text-align: right;\n",
       "    }\n",
       "</style>\n",
       "<table border=\"1\" class=\"dataframe\">\n",
       "  <thead>\n",
       "    <tr style=\"text-align: right;\">\n",
       "      <th></th>\n",
       "      <th>total sulfur dioxide</th>\n",
       "      <th>density</th>\n",
       "      <th>alcohol</th>\n",
       "    </tr>\n",
       "  </thead>\n",
       "  <tbody>\n",
       "    <tr>\n",
       "      <th>count</th>\n",
       "      <td>1119.000000</td>\n",
       "      <td>1119.000000</td>\n",
       "      <td>1119.000000</td>\n",
       "    </tr>\n",
       "    <tr>\n",
       "      <th>mean</th>\n",
       "      <td>0.146458</td>\n",
       "      <td>0.490804</td>\n",
       "      <td>0.309218</td>\n",
       "    </tr>\n",
       "    <tr>\n",
       "      <th>std</th>\n",
       "      <td>0.121072</td>\n",
       "      <td>0.139482</td>\n",
       "      <td>0.163815</td>\n",
       "    </tr>\n",
       "    <tr>\n",
       "      <th>min</th>\n",
       "      <td>0.000000</td>\n",
       "      <td>0.000000</td>\n",
       "      <td>0.000000</td>\n",
       "    </tr>\n",
       "    <tr>\n",
       "      <th>25%</th>\n",
       "      <td>0.056537</td>\n",
       "      <td>0.406021</td>\n",
       "      <td>0.169231</td>\n",
       "    </tr>\n",
       "    <tr>\n",
       "      <th>50%</th>\n",
       "      <td>0.113074</td>\n",
       "      <td>0.488253</td>\n",
       "      <td>0.261538</td>\n",
       "    </tr>\n",
       "    <tr>\n",
       "      <th>75%</th>\n",
       "      <td>0.201413</td>\n",
       "      <td>0.571953</td>\n",
       "      <td>0.405128</td>\n",
       "    </tr>\n",
       "    <tr>\n",
       "      <th>max</th>\n",
       "      <td>1.000000</td>\n",
       "      <td>1.000000</td>\n",
       "      <td>1.000000</td>\n",
       "    </tr>\n",
       "  </tbody>\n",
       "</table>\n",
       "</div>"
      ],
      "text/plain": [
       "       total sulfur dioxide      density      alcohol\n",
       "count           1119.000000  1119.000000  1119.000000\n",
       "mean               0.146458     0.490804     0.309218\n",
       "std                0.121072     0.139482     0.163815\n",
       "min                0.000000     0.000000     0.000000\n",
       "25%                0.056537     0.406021     0.169231\n",
       "50%                0.113074     0.488253     0.261538\n",
       "75%                0.201413     0.571953     0.405128\n",
       "max                1.000000     1.000000     1.000000"
      ]
     },
     "execution_count": 298,
     "metadata": {},
     "output_type": "execute_result"
    }
   ],
   "source": [
    "X_train_scaled_df.describe()"
   ]
  },
  {
   "cell_type": "markdown",
   "id": "467bd4d3",
   "metadata": {},
   "source": [
    "# mean normalization"
   ]
  },
  {
   "cell_type": "raw",
   "id": "60183a4e",
   "metadata": {},
   "source": [
    "it is useful when we require the centered data \n",
    "it is very rarely used in the practice.\n"
   ]
  },
  {
   "cell_type": "code",
   "execution_count": null,
   "id": "95f0cc09",
   "metadata": {},
   "outputs": [],
   "source": []
  },
  {
   "cell_type": "markdown",
   "id": "d4bb9ad1",
   "metadata": {},
   "source": [
    "# maxabs scaling"
   ]
  },
  {
   "cell_type": "raw",
   "id": "39886e67",
   "metadata": {},
   "source": [
    "it is used where we have a lot of zeros in the data i.e sparse matrix is present"
   ]
  },
  {
   "cell_type": "markdown",
   "id": "2916ae8a",
   "metadata": {},
   "source": [
    "# robust scaling"
   ]
  },
  {
   "cell_type": "raw",
   "id": "536dd33f",
   "metadata": {},
   "source": [
    "is is robust to outliers \n",
    "it works very well if we have many outliers in the dataset."
   ]
  },
  {
   "cell_type": "code",
   "execution_count": null,
   "id": "7eab8506",
   "metadata": {},
   "outputs": [],
   "source": []
  },
  {
   "cell_type": "raw",
   "id": "f91dd139",
   "metadata": {},
   "source": [
    "1. Is feature scaling important ?\n",
    "    .if yes? \n",
    "        then ,standardization or normalization?\n",
    "            . most of the problems will be resolvecd by standardization\n",
    "        \n",
    "            then when to use normalization?\n",
    "                when we already know the min and max value of the feature \n",
    "                minmaxscaler will is used in the image processing \n",
    "                \n",
    "       if outliers then go for robust scaling \n",
    " \n"
   ]
  },
  {
   "cell_type": "code",
   "execution_count": null,
   "id": "54c3ee66",
   "metadata": {},
   "outputs": [],
   "source": []
  },
  {
   "cell_type": "code",
   "execution_count": null,
   "id": "1dcd5746",
   "metadata": {},
   "outputs": [],
   "source": []
  },
  {
   "cell_type": "code",
   "execution_count": null,
   "id": "f76af2d2",
   "metadata": {},
   "outputs": [],
   "source": []
  },
  {
   "cell_type": "code",
   "execution_count": null,
   "id": "92b73e69",
   "metadata": {},
   "outputs": [],
   "source": []
  },
  {
   "cell_type": "code",
   "execution_count": null,
   "id": "1ebb26a4",
   "metadata": {},
   "outputs": [],
   "source": []
  },
  {
   "cell_type": "code",
   "execution_count": null,
   "id": "4ec8c609",
   "metadata": {},
   "outputs": [],
   "source": []
  },
  {
   "cell_type": "code",
   "execution_count": null,
   "id": "e3228e51",
   "metadata": {},
   "outputs": [],
   "source": []
  },
  {
   "cell_type": "code",
   "execution_count": null,
   "id": "5f08d129",
   "metadata": {},
   "outputs": [],
   "source": []
  }
 ],
 "metadata": {
  "kernelspec": {
   "display_name": "Python 3 (ipykernel)",
   "language": "python",
   "name": "python3"
  },
  "language_info": {
   "codemirror_mode": {
    "name": "ipython",
    "version": 3
   },
   "file_extension": ".py",
   "mimetype": "text/x-python",
   "name": "python",
   "nbconvert_exporter": "python",
   "pygments_lexer": "ipython3",
   "version": "3.9.13"
  }
 },
 "nbformat": 4,
 "nbformat_minor": 5
}
