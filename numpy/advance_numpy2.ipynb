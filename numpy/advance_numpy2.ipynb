{
 "cells": [
  {
   "cell_type": "code",
   "execution_count": 1,
   "id": "cbe04526",
   "metadata": {},
   "outputs": [],
   "source": [
    "import numpy as np"
   ]
  },
  {
   "cell_type": "code",
   "execution_count": 2,
   "id": "94be9b19",
   "metadata": {},
   "outputs": [],
   "source": [
    "## in this notebook , you will find  the advance numpy functions and their use cases"
   ]
  },
  {
   "cell_type": "markdown",
   "id": "387ff205",
   "metadata": {},
   "source": [
    "## np.sort()"
   ]
  },
  {
   "cell_type": "code",
   "execution_count": 16,
   "id": "24c0bd0c",
   "metadata": {},
   "outputs": [
    {
     "data": {
      "text/plain": [
       "array([83, 52, 88, 90, 46, 97, 76,  2, 34,  2])"
      ]
     },
     "execution_count": 16,
     "metadata": {},
     "output_type": "execute_result"
    }
   ],
   "source": [
    "a=np.random.randint(1,100,10)\n",
    "a"
   ]
  },
  {
   "cell_type": "code",
   "execution_count": 17,
   "id": "217a92a8",
   "metadata": {},
   "outputs": [
    {
     "data": {
      "text/plain": [
       "array([ 2,  2, 34, 46, 52, 76, 83, 88, 90, 97])"
      ]
     },
     "execution_count": 17,
     "metadata": {},
     "output_type": "execute_result"
    }
   ],
   "source": [
    "np.sort(a)"
   ]
  },
  {
   "cell_type": "code",
   "execution_count": 18,
   "id": "855af39f",
   "metadata": {},
   "outputs": [
    {
     "data": {
      "text/plain": [
       "array([[89, 10, 64, 56],\n",
       "       [18, 84, 27, 16],\n",
       "       [29, 11, 48, 53],\n",
       "       [61, 24, 10, 20],\n",
       "       [39, 58, 23, 15],\n",
       "       [11, 56, 70, 68]])"
      ]
     },
     "execution_count": 18,
     "metadata": {},
     "output_type": "execute_result"
    }
   ],
   "source": [
    "b=np.random.randint(1,100,24).reshape(6,4)\n",
    "b"
   ]
  },
  {
   "cell_type": "code",
   "execution_count": 19,
   "id": "420e38b7",
   "metadata": {},
   "outputs": [
    {
     "data": {
      "text/plain": [
       "array([[11, 10, 10, 15],\n",
       "       [18, 11, 23, 16],\n",
       "       [29, 24, 27, 20],\n",
       "       [39, 56, 48, 53],\n",
       "       [61, 58, 64, 56],\n",
       "       [89, 84, 70, 68]])"
      ]
     },
     "execution_count": 19,
     "metadata": {},
     "output_type": "execute_result"
    }
   ],
   "source": [
    "np.sort(b,axis=0)"
   ]
  },
  {
   "cell_type": "markdown",
   "id": "92830264",
   "metadata": {},
   "source": [
    "## np.append()"
   ]
  },
  {
   "cell_type": "code",
   "execution_count": 20,
   "id": "5901db38",
   "metadata": {},
   "outputs": [
    {
     "data": {
      "text/plain": [
       "array([83, 52, 88, 90, 46, 97, 76,  2, 34,  2])"
      ]
     },
     "execution_count": 20,
     "metadata": {},
     "output_type": "execute_result"
    }
   ],
   "source": [
    "a"
   ]
  },
  {
   "cell_type": "code",
   "execution_count": 23,
   "id": "bd87e128",
   "metadata": {},
   "outputs": [
    {
     "data": {
      "text/plain": [
       "array([83, 52, 88, 90, 46, 97, 76,  2, 34,  2,  5])"
      ]
     },
     "execution_count": 23,
     "metadata": {},
     "output_type": "execute_result"
    }
   ],
   "source": [
    "np.append(a,5)"
   ]
  },
  {
   "cell_type": "code",
   "execution_count": 24,
   "id": "b82fe2af",
   "metadata": {},
   "outputs": [
    {
     "data": {
      "text/plain": [
       "array([[89, 10, 64, 56],\n",
       "       [18, 84, 27, 16],\n",
       "       [29, 11, 48, 53],\n",
       "       [61, 24, 10, 20],\n",
       "       [39, 58, 23, 15],\n",
       "       [11, 56, 70, 68]])"
      ]
     },
     "execution_count": 24,
     "metadata": {},
     "output_type": "execute_result"
    }
   ],
   "source": [
    "b"
   ]
  },
  {
   "cell_type": "code",
   "execution_count": 32,
   "id": "60a85714",
   "metadata": {},
   "outputs": [
    {
     "data": {
      "text/plain": [
       "array([[89, 10, 64, 56],\n",
       "       [18, 84, 27, 16],\n",
       "       [29, 11, 48, 53],\n",
       "       [61, 24, 10, 20],\n",
       "       [39, 58, 23, 15],\n",
       "       [11, 56, 70, 68],\n",
       "       [ 1,  1,  1,  1]])"
      ]
     },
     "execution_count": 32,
     "metadata": {},
     "output_type": "execute_result"
    }
   ],
   "source": [
    "np.append(b,np.ones(4,int)).reshape(7,4)"
   ]
  },
  {
   "cell_type": "code",
   "execution_count": 53,
   "id": "3c136ecd",
   "metadata": {},
   "outputs": [
    {
     "data": {
      "text/plain": [
       "array([[89., 10., 64., 56.,  1.],\n",
       "       [18., 84., 27., 16.,  1.],\n",
       "       [29., 11., 48., 53.,  1.],\n",
       "       [61., 24., 10., 20.,  1.],\n",
       "       [39., 58., 23., 15.,  1.],\n",
       "       [11., 56., 70., 68.,  1.]])"
      ]
     },
     "execution_count": 53,
     "metadata": {},
     "output_type": "execute_result"
    }
   ],
   "source": [
    "np.append(b,np.ones((b.shape[0],1)),axis=1)"
   ]
  },
  {
   "cell_type": "code",
   "execution_count": 44,
   "id": "18091604",
   "metadata": {},
   "outputs": [
    {
     "data": {
      "text/plain": [
       "array([[89, 10, 64, 56],\n",
       "       [18, 84, 27, 16],\n",
       "       [29, 11, 48, 53],\n",
       "       [61, 24, 10, 20],\n",
       "       [39, 58, 23, 15],\n",
       "       [11, 56, 70, 68]])"
      ]
     },
     "execution_count": 44,
     "metadata": {},
     "output_type": "execute_result"
    }
   ],
   "source": [
    "b"
   ]
  },
  {
   "cell_type": "code",
   "execution_count": 54,
   "id": "e550b55c",
   "metadata": {},
   "outputs": [
    {
     "data": {
      "text/plain": [
       "array([[89, 10, 64, 56],\n",
       "       [18, 84, 27, 16],\n",
       "       [29, 11, 48, 53],\n",
       "       [61, 24, 10, 20],\n",
       "       [39, 58, 23, 15],\n",
       "       [11, 56, 70, 68]])"
      ]
     },
     "execution_count": 54,
     "metadata": {},
     "output_type": "execute_result"
    }
   ],
   "source": [
    "b"
   ]
  },
  {
   "cell_type": "code",
   "execution_count": 58,
   "id": "8c0a459f",
   "metadata": {},
   "outputs": [
    {
     "data": {
      "text/plain": [
       "array([[89, 10, 64, 56],\n",
       "       [18, 84, 27, 16],\n",
       "       [29, 11, 48, 53],\n",
       "       [61, 24, 10, 20],\n",
       "       [39, 58, 23, 15],\n",
       "       [11, 56, 70, 68],\n",
       "       [ 1,  1,  1,  1]])"
      ]
     },
     "execution_count": 58,
     "metadata": {},
     "output_type": "execute_result"
    }
   ],
   "source": [
    "np.append(b,[[1,1,1,1]],axis=0)"
   ]
  },
  {
   "cell_type": "code",
   "execution_count": 59,
   "id": "39d36544",
   "metadata": {},
   "outputs": [
    {
     "data": {
      "text/plain": [
       "array([[89, 10, 64, 56],\n",
       "       [18, 84, 27, 16],\n",
       "       [29, 11, 48, 53],\n",
       "       [61, 24, 10, 20],\n",
       "       [39, 58, 23, 15],\n",
       "       [11, 56, 70, 68]])"
      ]
     },
     "execution_count": 59,
     "metadata": {},
     "output_type": "execute_result"
    }
   ],
   "source": [
    "b"
   ]
  },
  {
   "cell_type": "code",
   "execution_count": 76,
   "id": "df3577b2",
   "metadata": {},
   "outputs": [
    {
     "data": {
      "text/plain": [
       "array([[89, 10, 64, 56,  1],\n",
       "       [18, 84, 27, 16,  1],\n",
       "       [29, 11, 48, 53,  1],\n",
       "       [61, 24, 10, 20,  1],\n",
       "       [39, 58, 23, 15,  1],\n",
       "       [11, 56, 70, 68,  1]])"
      ]
     },
     "execution_count": 76,
     "metadata": {},
     "output_type": "execute_result"
    }
   ],
   "source": [
    "np.append(b,np.ones((b.shape[0],1),int),axis=1)"
   ]
  },
  {
   "cell_type": "code",
   "execution_count": 77,
   "id": "9091af0d",
   "metadata": {},
   "outputs": [
    {
     "data": {
      "text/plain": [
       "array([[1., 1.],\n",
       "       [1., 1.]])"
      ]
     },
     "execution_count": 77,
     "metadata": {},
     "output_type": "execute_result"
    }
   ],
   "source": [
    "np.ones(4).reshape(2,2)"
   ]
  },
  {
   "cell_type": "code",
   "execution_count": 78,
   "id": "aca5760d",
   "metadata": {},
   "outputs": [
    {
     "data": {
      "text/plain": [
       "(6, 1)"
      ]
     },
     "execution_count": 78,
     "metadata": {},
     "output_type": "execute_result"
    }
   ],
   "source": [
    "np.ones((b.shape[0],1)).shape"
   ]
  },
  {
   "cell_type": "code",
   "execution_count": 81,
   "id": "a5acc820",
   "metadata": {},
   "outputs": [
    {
     "data": {
      "text/plain": [
       "array([[1],\n",
       "       [1],\n",
       "       [1],\n",
       "       [1]])"
      ]
     },
     "execution_count": 81,
     "metadata": {},
     "output_type": "execute_result"
    }
   ],
   "source": [
    "np.ones((b.shape[1],1),int)"
   ]
  },
  {
   "cell_type": "code",
   "execution_count": 90,
   "id": "4b63fb76",
   "metadata": {},
   "outputs": [
    {
     "data": {
      "text/plain": [
       "array([[89, 10, 64, 56],\n",
       "       [18, 84, 27, 16],\n",
       "       [29, 11, 48, 53],\n",
       "       [61, 24, 10, 20],\n",
       "       [39, 58, 23, 15],\n",
       "       [11, 56, 70, 68],\n",
       "       [ 1,  1,  1,  1]])"
      ]
     },
     "execution_count": 90,
     "metadata": {},
     "output_type": "execute_result"
    }
   ],
   "source": [
    "np.append(b,(np.ones((1,b.shape[1]),int)),axis=0)"
   ]
  },
  {
   "cell_type": "code",
   "execution_count": 89,
   "id": "813c3c60",
   "metadata": {},
   "outputs": [
    {
     "data": {
      "text/plain": [
       "array([[1, 1, 1, 1]])"
      ]
     },
     "execution_count": 89,
     "metadata": {},
     "output_type": "execute_result"
    }
   ],
   "source": [
    "np.ones((1,b.shape[1]),int)"
   ]
  },
  {
   "cell_type": "markdown",
   "id": "ced40d7d",
   "metadata": {},
   "source": [
    "## np.concatenate()"
   ]
  },
  {
   "cell_type": "code",
   "execution_count": 91,
   "id": "ae34fc7b",
   "metadata": {},
   "outputs": [
    {
     "data": {
      "text/plain": [
       "array([[0, 1, 2],\n",
       "       [3, 4, 5]])"
      ]
     },
     "execution_count": 91,
     "metadata": {},
     "output_type": "execute_result"
    }
   ],
   "source": [
    "a=np.arange(6).reshape(2,3)\n",
    "a"
   ]
  },
  {
   "cell_type": "code",
   "execution_count": 95,
   "id": "2c2cb079",
   "metadata": {},
   "outputs": [
    {
     "data": {
      "text/plain": [
       "array([[ 6,  7,  8],\n",
       "       [ 9, 10, 11]])"
      ]
     },
     "execution_count": 95,
     "metadata": {},
     "output_type": "execute_result"
    }
   ],
   "source": [
    "b=np.arange(6,12).reshape(2,3)\n",
    "b"
   ]
  },
  {
   "cell_type": "code",
   "execution_count": 98,
   "id": "9f6e4193",
   "metadata": {},
   "outputs": [
    {
     "data": {
      "text/plain": [
       "array([[ 0,  1,  2],\n",
       "       [ 3,  4,  5],\n",
       "       [ 6,  7,  8],\n",
       "       [ 9, 10, 11]])"
      ]
     },
     "execution_count": 98,
     "metadata": {},
     "output_type": "execute_result"
    }
   ],
   "source": [
    "np.concatenate((a,b),axis=0)"
   ]
  },
  {
   "cell_type": "code",
   "execution_count": 99,
   "id": "020d1256",
   "metadata": {},
   "outputs": [
    {
     "data": {
      "text/plain": [
       "array([[ 0,  1,  2,  6,  7,  8],\n",
       "       [ 3,  4,  5,  9, 10, 11]])"
      ]
     },
     "execution_count": 99,
     "metadata": {},
     "output_type": "execute_result"
    }
   ],
   "source": [
    "np.concatenate((a,b),axis=1)"
   ]
  },
  {
   "cell_type": "markdown",
   "id": "243b0b22",
   "metadata": {},
   "source": [
    "## np.unique()"
   ]
  },
  {
   "cell_type": "code",
   "execution_count": 100,
   "id": "f4759fc0",
   "metadata": {},
   "outputs": [
    {
     "data": {
      "text/plain": [
       "array([ 12,   2,   1,  12,   1,  12,   2,  12,   3,  45,   6,  78,  89,\n",
       "        54, 112,  12])"
      ]
     },
     "execution_count": 100,
     "metadata": {},
     "output_type": "execute_result"
    }
   ],
   "source": [
    "e=np.array([12,2,1,12,1,12,2,12,3,45,6,78,89,54,112,12])\n",
    "e"
   ]
  },
  {
   "cell_type": "code",
   "execution_count": 101,
   "id": "9ed70391",
   "metadata": {},
   "outputs": [
    {
     "data": {
      "text/plain": [
       "array([  1,   2,   3,   6,  12,  45,  54,  78,  89, 112])"
      ]
     },
     "execution_count": 101,
     "metadata": {},
     "output_type": "execute_result"
    }
   ],
   "source": [
    "np.unique(e)"
   ]
  },
  {
   "cell_type": "markdown",
   "id": "6f4a5970",
   "metadata": {},
   "source": [
    "## np.expand_dims()"
   ]
  },
  {
   "cell_type": "code",
   "execution_count": 103,
   "id": "8c186c77",
   "metadata": {},
   "outputs": [
    {
     "data": {
      "text/plain": [
       "array([42, 18,  8, 58,  5,  6, 68, 28, 35,  1])"
      ]
     },
     "execution_count": 103,
     "metadata": {},
     "output_type": "execute_result"
    }
   ],
   "source": [
    "a=np.random.randint(1,100,10)\n",
    "a"
   ]
  },
  {
   "cell_type": "code",
   "execution_count": 110,
   "id": "20910506",
   "metadata": {},
   "outputs": [
    {
     "data": {
      "text/plain": [
       "array([[42, 18,  8, 58,  5,  6, 68, 28, 35,  1]])"
      ]
     },
     "execution_count": 110,
     "metadata": {},
     "output_type": "execute_result"
    }
   ],
   "source": [
    "np.expand_dims(a,axis=0)"
   ]
  },
  {
   "cell_type": "markdown",
   "id": "4476d53c",
   "metadata": {},
   "source": [
    "## np.where()"
   ]
  },
  {
   "cell_type": "code",
   "execution_count": 114,
   "id": "95850fa8",
   "metadata": {},
   "outputs": [
    {
     "data": {
      "text/plain": [
       "array([42, 18,  8, 58,  5,  6, 68, 28, 35,  1])"
      ]
     },
     "execution_count": 114,
     "metadata": {},
     "output_type": "execute_result"
    }
   ],
   "source": [
    "a"
   ]
  },
  {
   "cell_type": "code",
   "execution_count": 115,
   "id": "decd760d",
   "metadata": {},
   "outputs": [
    {
     "data": {
      "text/plain": [
       "array([58, 68])"
      ]
     },
     "execution_count": 115,
     "metadata": {},
     "output_type": "execute_result"
    }
   ],
   "source": [
    "a[a>50]"
   ]
  },
  {
   "cell_type": "code",
   "execution_count": 121,
   "id": "9af12f37",
   "metadata": {},
   "outputs": [
    {
     "data": {
      "text/plain": [
       "(array([3, 6], dtype=int64),)"
      ]
     },
     "execution_count": 121,
     "metadata": {},
     "output_type": "execute_result"
    }
   ],
   "source": [
    "np.where(a>50)"
   ]
  },
  {
   "cell_type": "code",
   "execution_count": 125,
   "id": "516a8564",
   "metadata": {},
   "outputs": [
    {
     "data": {
      "text/plain": [
       "array([42, 18,  8,  0,  5,  6,  0, 28, 35,  1])"
      ]
     },
     "execution_count": 125,
     "metadata": {},
     "output_type": "execute_result"
    }
   ],
   "source": [
    "np.where(a>50,0,a)"
   ]
  },
  {
   "cell_type": "code",
   "execution_count": 129,
   "id": "52e37312",
   "metadata": {},
   "outputs": [
    {
     "data": {
      "text/plain": [
       "array(['even', 'even', 'even', 'even', '5', 'even', 'even', 'even', '35',\n",
       "       '1'], dtype='<U11')"
      ]
     },
     "execution_count": 129,
     "metadata": {},
     "output_type": "execute_result"
    }
   ],
   "source": [
    "np.where(a%2==0,'even',a)"
   ]
  },
  {
   "cell_type": "markdown",
   "id": "b838483b",
   "metadata": {},
   "source": [
    "## np.argmax()"
   ]
  },
  {
   "cell_type": "code",
   "execution_count": 130,
   "id": "a95a82b8",
   "metadata": {},
   "outputs": [
    {
     "data": {
      "text/plain": [
       "array([42, 18,  8, 58,  5,  6, 68, 28, 35,  1])"
      ]
     },
     "execution_count": 130,
     "metadata": {},
     "output_type": "execute_result"
    }
   ],
   "source": [
    "a"
   ]
  },
  {
   "cell_type": "code",
   "execution_count": 132,
   "id": "c6b1a374",
   "metadata": {},
   "outputs": [
    {
     "data": {
      "text/plain": [
       "68"
      ]
     },
     "execution_count": 132,
     "metadata": {},
     "output_type": "execute_result"
    }
   ],
   "source": [
    "a[np.argmax(a)]"
   ]
  },
  {
   "cell_type": "code",
   "execution_count": 133,
   "id": "491a35dc",
   "metadata": {},
   "outputs": [
    {
     "data": {
      "text/plain": [
       "68"
      ]
     },
     "execution_count": 133,
     "metadata": {},
     "output_type": "execute_result"
    }
   ],
   "source": [
    "np.max(a)"
   ]
  },
  {
   "cell_type": "code",
   "execution_count": 140,
   "id": "b02fa46c",
   "metadata": {},
   "outputs": [
    {
     "data": {
      "text/plain": [
       "array([[ 6,  7,  8],\n",
       "       [ 9, 10, 11]])"
      ]
     },
     "execution_count": 140,
     "metadata": {},
     "output_type": "execute_result"
    }
   ],
   "source": [
    "b"
   ]
  },
  {
   "cell_type": "code",
   "execution_count": 144,
   "id": "c4825e7e",
   "metadata": {},
   "outputs": [
    {
     "data": {
      "text/plain": [
       "array([2, 2], dtype=int64)"
      ]
     },
     "execution_count": 144,
     "metadata": {},
     "output_type": "execute_result"
    }
   ],
   "source": [
    "np.argmax(b,axis=1)"
   ]
  },
  {
   "cell_type": "markdown",
   "id": "e9ee521d",
   "metadata": {},
   "source": [
    "## np.argmin()"
   ]
  },
  {
   "cell_type": "code",
   "execution_count": 145,
   "id": "cb650433",
   "metadata": {},
   "outputs": [
    {
     "data": {
      "text/plain": [
       "array([42, 18,  8, 58,  5,  6, 68, 28, 35,  1])"
      ]
     },
     "execution_count": 145,
     "metadata": {},
     "output_type": "execute_result"
    }
   ],
   "source": [
    "a"
   ]
  },
  {
   "cell_type": "code",
   "execution_count": 147,
   "id": "16a48c38",
   "metadata": {},
   "outputs": [
    {
     "data": {
      "text/plain": [
       "1"
      ]
     },
     "execution_count": 147,
     "metadata": {},
     "output_type": "execute_result"
    }
   ],
   "source": [
    "a[np.argmin(a)]"
   ]
  },
  {
   "cell_type": "markdown",
   "id": "34b76859",
   "metadata": {},
   "source": [
    "## np.cumsum()"
   ]
  },
  {
   "cell_type": "code",
   "execution_count": 149,
   "id": "e28467a6",
   "metadata": {},
   "outputs": [
    {
     "data": {
      "text/plain": [
       "array([42, 18,  8, 58,  5,  6, 68, 28, 35,  1])"
      ]
     },
     "execution_count": 149,
     "metadata": {},
     "output_type": "execute_result"
    }
   ],
   "source": [
    "a"
   ]
  },
  {
   "cell_type": "code",
   "execution_count": 150,
   "id": "ff52418e",
   "metadata": {},
   "outputs": [
    {
     "data": {
      "text/plain": [
       "array([ 42,  60,  68, 126, 131, 137, 205, 233, 268, 269])"
      ]
     },
     "execution_count": 150,
     "metadata": {},
     "output_type": "execute_result"
    }
   ],
   "source": [
    "np.cumsum(a)"
   ]
  },
  {
   "cell_type": "code",
   "execution_count": 151,
   "id": "c6958dbb",
   "metadata": {},
   "outputs": [
    {
     "data": {
      "text/plain": [
       "array([[ 6,  7,  8],\n",
       "       [ 9, 10, 11]])"
      ]
     },
     "execution_count": 151,
     "metadata": {},
     "output_type": "execute_result"
    }
   ],
   "source": [
    "b"
   ]
  },
  {
   "cell_type": "code",
   "execution_count": 154,
   "id": "de0713f9",
   "metadata": {},
   "outputs": [
    {
     "data": {
      "text/plain": [
       "array([[ 6,  7,  8],\n",
       "       [15, 17, 19]])"
      ]
     },
     "execution_count": 154,
     "metadata": {},
     "output_type": "execute_result"
    }
   ],
   "source": [
    "np.cumsum(b,axis=0)"
   ]
  },
  {
   "cell_type": "code",
   "execution_count": 155,
   "id": "19eed8a8",
   "metadata": {},
   "outputs": [],
   "source": [
    "#Create a 5x5 matrix with row values ranging from 0 to 4"
   ]
  },
  {
   "cell_type": "code",
   "execution_count": 157,
   "id": "b1c68546",
   "metadata": {},
   "outputs": [
    {
     "data": {
      "text/plain": [
       "array([[30, 83, 91, 71],\n",
       "       [23, 14, 77, 63],\n",
       "       [79, 37, 78, 92],\n",
       "       [ 6, 24, 61,  5],\n",
       "       [21, 19,  1, 56],\n",
       "       [67, 10, 17, 17]])"
      ]
     },
     "execution_count": 157,
     "metadata": {},
     "output_type": "execute_result"
    }
   ],
   "source": [
    "b=np.random.randint(1,100,24).reshape(6,4)\n",
    "b"
   ]
  },
  {
   "cell_type": "code",
   "execution_count": 158,
   "id": "e769e405",
   "metadata": {},
   "outputs": [
    {
     "data": {
      "text/plain": [
       "array([  30,  113,  204,  275,  298,  312,  389,  452,  531,  568,  646,\n",
       "        738,  744,  768,  829,  834,  855,  874,  875,  931,  998, 1008,\n",
       "       1025, 1042])"
      ]
     },
     "execution_count": 158,
     "metadata": {},
     "output_type": "execute_result"
    }
   ],
   "source": [
    "np.cumsum(b)"
   ]
  },
  {
   "cell_type": "code",
   "execution_count": 159,
   "id": "b7b13046",
   "metadata": {},
   "outputs": [
    {
     "data": {
      "text/plain": [
       "array([         30,        2490,      226590,    16087890,   370021470,\n",
       "         885333284,  -548813868,  -215535316,   152579220,  1350463844,\n",
       "       -2038002568,  1482324768,   304014016, -1293598208, -1600079360,\n",
       "         589537792,  -504608256,  -997622272,  -997622272,   -32272384,\n",
       "        2132717568,  -147660800,  1784733696,   275701760])"
      ]
     },
     "execution_count": 159,
     "metadata": {},
     "output_type": "execute_result"
    }
   ],
   "source": [
    "np.cumproduct(b)"
   ]
  },
  {
   "cell_type": "code",
   "execution_count": 162,
   "id": "481daf66",
   "metadata": {},
   "outputs": [
    {
     "data": {
      "text/plain": [
       "33.5"
      ]
     },
     "execution_count": 162,
     "metadata": {},
     "output_type": "execute_result"
    }
   ],
   "source": [
    "np.percentile(b,50)"
   ]
  },
  {
   "cell_type": "markdown",
   "id": "d23dc55c",
   "metadata": {},
   "source": [
    "## np.histogram()"
   ]
  },
  {
   "cell_type": "code",
   "execution_count": 163,
   "id": "511d4643",
   "metadata": {},
   "outputs": [
    {
     "data": {
      "text/plain": [
       "array([93, 76, 37,  3,  4, 48,  6, 29, 11, 70])"
      ]
     },
     "execution_count": 163,
     "metadata": {},
     "output_type": "execute_result"
    }
   ],
   "source": [
    "a=np.random.randint(1,100,10)\n",
    "a"
   ]
  },
  {
   "cell_type": "code",
   "execution_count": 166,
   "id": "d64fcc71",
   "metadata": {},
   "outputs": [
    {
     "data": {
      "text/plain": [
       "(array([3, 1, 1, 5], dtype=int64), array([  0,  10,  20,  30, 100]))"
      ]
     },
     "execution_count": 166,
     "metadata": {},
     "output_type": "execute_result"
    }
   ],
   "source": [
    "np.histogram(a,bins=[0,10,20,30,100])"
   ]
  },
  {
   "cell_type": "markdown",
   "id": "88615010",
   "metadata": {},
   "source": [
    "## np.corrcoef()"
   ]
  },
  {
   "cell_type": "code",
   "execution_count": 167,
   "id": "f52bc12e",
   "metadata": {},
   "outputs": [],
   "source": [
    "salary=np.array([120000,340500,560000,35000])\n",
    "exp=np.array([5,7,9,2])\n"
   ]
  },
  {
   "cell_type": "code",
   "execution_count": 168,
   "id": "af152816",
   "metadata": {},
   "outputs": [
    {
     "data": {
      "text/plain": [
       "array([[1.        , 0.95881029],\n",
       "       [0.95881029, 1.        ]])"
      ]
     },
     "execution_count": 168,
     "metadata": {},
     "output_type": "execute_result"
    }
   ],
   "source": [
    "np.corrcoef(salary,exp)"
   ]
  },
  {
   "cell_type": "code",
   "execution_count": 170,
   "id": "3893f494",
   "metadata": {},
   "outputs": [
    {
     "data": {
      "text/plain": [
       "array([93, 76, 37,  3,  4, 48,  6, 29, 11, 70])"
      ]
     },
     "execution_count": 170,
     "metadata": {},
     "output_type": "execute_result"
    }
   ],
   "source": [
    "item=[12,2,3,3,34,1,2,37,34]\n",
    "a"
   ]
  },
  {
   "cell_type": "markdown",
   "id": "78bc1554",
   "metadata": {},
   "source": [
    "## np.isin()"
   ]
  },
  {
   "cell_type": "code",
   "execution_count": 173,
   "id": "45a2257d",
   "metadata": {},
   "outputs": [
    {
     "data": {
      "text/plain": [
       "array([37,  3])"
      ]
     },
     "execution_count": 173,
     "metadata": {},
     "output_type": "execute_result"
    }
   ],
   "source": [
    "a[np.isin(a,item)]"
   ]
  },
  {
   "cell_type": "code",
   "execution_count": 174,
   "id": "10bdf413",
   "metadata": {},
   "outputs": [
    {
     "data": {
      "text/plain": [
       "array([93, 76, 37,  3,  4, 48,  6, 29, 11, 70])"
      ]
     },
     "execution_count": 174,
     "metadata": {},
     "output_type": "execute_result"
    }
   ],
   "source": [
    "a"
   ]
  },
  {
   "cell_type": "markdown",
   "id": "0b60c1a2",
   "metadata": {},
   "source": [
    "## np.flip()"
   ]
  },
  {
   "cell_type": "code",
   "execution_count": 175,
   "id": "3ea605a9",
   "metadata": {},
   "outputs": [
    {
     "data": {
      "text/plain": [
       "array([70, 11, 29,  6, 48,  4,  3, 37, 76, 93])"
      ]
     },
     "execution_count": 175,
     "metadata": {},
     "output_type": "execute_result"
    }
   ],
   "source": [
    "np.flip(a)"
   ]
  },
  {
   "cell_type": "code",
   "execution_count": 176,
   "id": "033bef6b",
   "metadata": {},
   "outputs": [
    {
     "data": {
      "text/plain": [
       "array([93, 76, 37,  3,  4, 48,  6, 29, 11, 70])"
      ]
     },
     "execution_count": 176,
     "metadata": {},
     "output_type": "execute_result"
    }
   ],
   "source": [
    "a"
   ]
  },
  {
   "cell_type": "code",
   "execution_count": 177,
   "id": "ea1f7188",
   "metadata": {},
   "outputs": [
    {
     "data": {
      "text/plain": [
       "array([70, 11, 29,  6, 48,  4,  3, 37, 76, 93])"
      ]
     },
     "execution_count": 177,
     "metadata": {},
     "output_type": "execute_result"
    }
   ],
   "source": [
    "a[::-1]"
   ]
  },
  {
   "cell_type": "code",
   "execution_count": 178,
   "id": "feb7db85",
   "metadata": {},
   "outputs": [
    {
     "data": {
      "text/plain": [
       "array([[30, 83, 91, 71],\n",
       "       [23, 14, 77, 63],\n",
       "       [79, 37, 78, 92],\n",
       "       [ 6, 24, 61,  5],\n",
       "       [21, 19,  1, 56],\n",
       "       [67, 10, 17, 17]])"
      ]
     },
     "execution_count": 178,
     "metadata": {},
     "output_type": "execute_result"
    }
   ],
   "source": [
    "b"
   ]
  },
  {
   "cell_type": "code",
   "execution_count": 181,
   "id": "518865f7",
   "metadata": {},
   "outputs": [
    {
     "data": {
      "text/plain": [
       "array([[67, 10, 17, 17],\n",
       "       [21, 19,  1, 56],\n",
       "       [ 6, 24, 61,  5],\n",
       "       [79, 37, 78, 92],\n",
       "       [23, 14, 77, 63],\n",
       "       [30, 83, 91, 71]])"
      ]
     },
     "execution_count": 181,
     "metadata": {},
     "output_type": "execute_result"
    }
   ],
   "source": [
    "np.flip(b,axis=0)"
   ]
  },
  {
   "cell_type": "code",
   "execution_count": 182,
   "id": "987bd649",
   "metadata": {},
   "outputs": [
    {
     "data": {
      "text/plain": [
       "array([93, 76, 37,  3,  4, 48,  6, 29, 11, 70])"
      ]
     },
     "execution_count": 182,
     "metadata": {},
     "output_type": "execute_result"
    }
   ],
   "source": [
    "a"
   ]
  },
  {
   "cell_type": "markdown",
   "id": "5e800657",
   "metadata": {},
   "source": [
    "## np.put()"
   ]
  },
  {
   "cell_type": "code",
   "execution_count": 186,
   "id": "2a37ce9a",
   "metadata": {},
   "outputs": [],
   "source": [
    "np.put(a,(0,1),(11,45))"
   ]
  },
  {
   "cell_type": "code",
   "execution_count": 187,
   "id": "8efbea0e",
   "metadata": {},
   "outputs": [
    {
     "data": {
      "text/plain": [
       "array([11, 45, 37,  3,  4, 48,  6, 29, 11, 70])"
      ]
     },
     "execution_count": 187,
     "metadata": {},
     "output_type": "execute_result"
    }
   ],
   "source": [
    "a"
   ]
  },
  {
   "cell_type": "code",
   "execution_count": 188,
   "id": "6ed6893a",
   "metadata": {},
   "outputs": [
    {
     "data": {
      "text/plain": [
       "array([11, 45, 37,  3,  4, 48,  6, 29, 11, 70])"
      ]
     },
     "execution_count": 188,
     "metadata": {},
     "output_type": "execute_result"
    }
   ],
   "source": [
    "a"
   ]
  },
  {
   "cell_type": "markdown",
   "id": "3a4d7635",
   "metadata": {},
   "source": [
    "## np.delete()"
   ]
  },
  {
   "cell_type": "code",
   "execution_count": 189,
   "id": "66368947",
   "metadata": {},
   "outputs": [
    {
     "data": {
      "text/plain": [
       "array([11, 45, 37,  3,  4, 48,  6, 29, 11, 70])"
      ]
     },
     "execution_count": 189,
     "metadata": {},
     "output_type": "execute_result"
    }
   ],
   "source": [
    "a"
   ]
  },
  {
   "cell_type": "code",
   "execution_count": 190,
   "id": "b299ff57",
   "metadata": {},
   "outputs": [
    {
     "data": {
      "text/plain": [
       "array([ 3,  4, 48,  6, 29, 11, 70])"
      ]
     },
     "execution_count": 190,
     "metadata": {},
     "output_type": "execute_result"
    }
   ],
   "source": [
    "np.delete(a,(0,1,2))\n"
   ]
  },
  {
   "cell_type": "code",
   "execution_count": 191,
   "id": "98efa413",
   "metadata": {},
   "outputs": [
    {
     "data": {
      "text/plain": [
       "array([11, 45, 37,  3,  4, 48,  6, 29, 11, 70])"
      ]
     },
     "execution_count": 191,
     "metadata": {},
     "output_type": "execute_result"
    }
   ],
   "source": [
    "a"
   ]
  },
  {
   "cell_type": "markdown",
   "id": "a9d82d0f",
   "metadata": {},
   "source": [
    "## set functions"
   ]
  },
  {
   "cell_type": "code",
   "execution_count": 193,
   "id": "00a0c69b",
   "metadata": {},
   "outputs": [],
   "source": [
    "a=np.array([1,2,3,4,5])\n",
    "b=np.array([3,4,5,6,7])\n"
   ]
  },
  {
   "cell_type": "code",
   "execution_count": 194,
   "id": "842f8eb4",
   "metadata": {},
   "outputs": [
    {
     "data": {
      "text/plain": [
       "array([1, 2, 3, 4, 5, 6, 7])"
      ]
     },
     "execution_count": 194,
     "metadata": {},
     "output_type": "execute_result"
    }
   ],
   "source": [
    "np.union1d(a,b)"
   ]
  },
  {
   "cell_type": "code",
   "execution_count": 195,
   "id": "f53bd643",
   "metadata": {},
   "outputs": [
    {
     "data": {
      "text/plain": [
       "array([3, 4, 5])"
      ]
     },
     "execution_count": 195,
     "metadata": {},
     "output_type": "execute_result"
    }
   ],
   "source": [
    "np.intersect1d(a,b)"
   ]
  },
  {
   "cell_type": "code",
   "execution_count": 197,
   "id": "94f8a228",
   "metadata": {},
   "outputs": [
    {
     "data": {
      "text/plain": [
       "array([6, 7])"
      ]
     },
     "execution_count": 197,
     "metadata": {},
     "output_type": "execute_result"
    }
   ],
   "source": [
    "np.setdiff1d(b,a)"
   ]
  },
  {
   "cell_type": "code",
   "execution_count": 198,
   "id": "56f1b3d6",
   "metadata": {},
   "outputs": [
    {
     "data": {
      "text/plain": [
       "array([1, 2, 6, 7])"
      ]
     },
     "execution_count": 198,
     "metadata": {},
     "output_type": "execute_result"
    }
   ],
   "source": [
    "np.setxor1d(a,b)"
   ]
  },
  {
   "cell_type": "code",
   "execution_count": 201,
   "id": "8d4c733b",
   "metadata": {},
   "outputs": [
    {
     "data": {
      "text/plain": [
       "array([3, 4, 5])"
      ]
     },
     "execution_count": 201,
     "metadata": {},
     "output_type": "execute_result"
    }
   ],
   "source": [
    "a[np.in1d(a,b)]"
   ]
  },
  {
   "cell_type": "markdown",
   "id": "e1d7206f",
   "metadata": {},
   "source": [
    "## np.clip()"
   ]
  },
  {
   "cell_type": "code",
   "execution_count": 202,
   "id": "74424ea7",
   "metadata": {},
   "outputs": [
    {
     "data": {
      "text/plain": [
       "array([1, 2, 3, 4, 5])"
      ]
     },
     "execution_count": 202,
     "metadata": {},
     "output_type": "execute_result"
    }
   ],
   "source": [
    "a"
   ]
  },
  {
   "cell_type": "code",
   "execution_count": 203,
   "id": "6ec358f9",
   "metadata": {},
   "outputs": [
    {
     "data": {
      "text/plain": [
       "array([3, 4, 5, 6, 7])"
      ]
     },
     "execution_count": 203,
     "metadata": {},
     "output_type": "execute_result"
    }
   ],
   "source": [
    "b"
   ]
  },
  {
   "cell_type": "code",
   "execution_count": 204,
   "id": "b076ada4",
   "metadata": {},
   "outputs": [
    {
     "data": {
      "text/plain": [
       "array([2, 2, 3, 4, 5])"
      ]
     },
     "execution_count": 204,
     "metadata": {},
     "output_type": "execute_result"
    }
   ],
   "source": [
    "np.clip(a,2,5)"
   ]
  },
  {
   "cell_type": "code",
   "execution_count": 206,
   "id": "b1380184",
   "metadata": {},
   "outputs": [
    {
     "data": {
      "text/plain": [
       "array([57, 31, 57, 69, 95, 59, 88,  8, 99, 72, 70, 94, 94, 99, 84, 49, 37,\n",
       "       95, 56, 64, 10,  7, 74, 47,  2, 16, 83,  7, 65, 49, 54, 97, 72, 97,\n",
       "       17, 77, 27, 16,  4, 80, 72, 22, 56, 62, 24, 78, 94, 84, 37, 35])"
      ]
     },
     "execution_count": 206,
     "metadata": {},
     "output_type": "execute_result"
    }
   ],
   "source": [
    "a=np.random.randint(1,100,50)\n",
    "a"
   ]
  },
  {
   "cell_type": "code",
   "execution_count": 207,
   "id": "8767b0e3",
   "metadata": {},
   "outputs": [
    {
     "data": {
      "text/plain": [
       "array([57, 31, 57, 69, 70, 59, 70, 20, 70, 70, 70, 70, 70, 70, 70, 49, 37,\n",
       "       70, 56, 64, 20, 20, 70, 47, 20, 20, 70, 20, 65, 49, 54, 70, 70, 70,\n",
       "       20, 70, 27, 20, 20, 70, 70, 22, 56, 62, 24, 70, 70, 70, 37, 35])"
      ]
     },
     "execution_count": 207,
     "metadata": {},
     "output_type": "execute_result"
    }
   ],
   "source": [
    "np.clip(a,20,70)"
   ]
  },
  {
   "cell_type": "code",
   "execution_count": null,
   "id": "e075718d",
   "metadata": {},
   "outputs": [],
   "source": []
  },
  {
   "cell_type": "code",
   "execution_count": null,
   "id": "97ecd62e",
   "metadata": {},
   "outputs": [],
   "source": []
  },
  {
   "cell_type": "code",
   "execution_count": null,
   "id": "71a1eda6",
   "metadata": {},
   "outputs": [],
   "source": []
  },
  {
   "cell_type": "code",
   "execution_count": null,
   "id": "875c20c4",
   "metadata": {},
   "outputs": [],
   "source": []
  },
  {
   "cell_type": "code",
   "execution_count": null,
   "id": "bf271d1f",
   "metadata": {},
   "outputs": [],
   "source": []
  },
  {
   "cell_type": "code",
   "execution_count": null,
   "id": "6dc810b5",
   "metadata": {},
   "outputs": [],
   "source": []
  },
  {
   "cell_type": "code",
   "execution_count": null,
   "id": "4c102588",
   "metadata": {},
   "outputs": [],
   "source": []
  },
  {
   "cell_type": "code",
   "execution_count": null,
   "id": "32b258a2",
   "metadata": {},
   "outputs": [],
   "source": []
  },
  {
   "cell_type": "code",
   "execution_count": null,
   "id": "afe63b28",
   "metadata": {},
   "outputs": [],
   "source": []
  },
  {
   "cell_type": "code",
   "execution_count": null,
   "id": "01451e2c",
   "metadata": {},
   "outputs": [],
   "source": []
  },
  {
   "cell_type": "code",
   "execution_count": null,
   "id": "ecc83a9f",
   "metadata": {},
   "outputs": [],
   "source": []
  },
  {
   "cell_type": "code",
   "execution_count": null,
   "id": "997b8916",
   "metadata": {},
   "outputs": [],
   "source": []
  },
  {
   "cell_type": "code",
   "execution_count": null,
   "id": "f10b7d4c",
   "metadata": {},
   "outputs": [],
   "source": []
  },
  {
   "cell_type": "code",
   "execution_count": null,
   "id": "05770486",
   "metadata": {},
   "outputs": [],
   "source": []
  },
  {
   "cell_type": "code",
   "execution_count": null,
   "id": "c4c2674b",
   "metadata": {},
   "outputs": [],
   "source": []
  },
  {
   "cell_type": "code",
   "execution_count": null,
   "id": "5b61ae6c",
   "metadata": {},
   "outputs": [],
   "source": []
  },
  {
   "cell_type": "code",
   "execution_count": null,
   "id": "728302b4",
   "metadata": {},
   "outputs": [],
   "source": []
  },
  {
   "cell_type": "code",
   "execution_count": null,
   "id": "b31014ed",
   "metadata": {},
   "outputs": [],
   "source": []
  },
  {
   "cell_type": "code",
   "execution_count": null,
   "id": "d2ca2795",
   "metadata": {},
   "outputs": [],
   "source": []
  },
  {
   "cell_type": "code",
   "execution_count": null,
   "id": "7697643f",
   "metadata": {},
   "outputs": [],
   "source": []
  },
  {
   "cell_type": "code",
   "execution_count": null,
   "id": "8e9b4129",
   "metadata": {},
   "outputs": [],
   "source": []
  },
  {
   "cell_type": "code",
   "execution_count": null,
   "id": "a3f1c056",
   "metadata": {},
   "outputs": [],
   "source": []
  },
  {
   "cell_type": "code",
   "execution_count": null,
   "id": "e45f974d",
   "metadata": {},
   "outputs": [],
   "source": []
  },
  {
   "cell_type": "code",
   "execution_count": null,
   "id": "b9472a34",
   "metadata": {},
   "outputs": [],
   "source": []
  },
  {
   "cell_type": "code",
   "execution_count": null,
   "id": "a19589ef",
   "metadata": {},
   "outputs": [],
   "source": []
  },
  {
   "cell_type": "code",
   "execution_count": null,
   "id": "ab3de119",
   "metadata": {},
   "outputs": [],
   "source": []
  },
  {
   "cell_type": "code",
   "execution_count": null,
   "id": "6b5a6fa5",
   "metadata": {},
   "outputs": [],
   "source": []
  },
  {
   "cell_type": "code",
   "execution_count": null,
   "id": "40323b16",
   "metadata": {},
   "outputs": [],
   "source": []
  },
  {
   "cell_type": "code",
   "execution_count": null,
   "id": "abd125d1",
   "metadata": {},
   "outputs": [],
   "source": []
  },
  {
   "cell_type": "code",
   "execution_count": null,
   "id": "e4d6cc27",
   "metadata": {},
   "outputs": [],
   "source": []
  },
  {
   "cell_type": "code",
   "execution_count": null,
   "id": "390e4040",
   "metadata": {},
   "outputs": [],
   "source": []
  },
  {
   "cell_type": "code",
   "execution_count": null,
   "id": "a6c6689d",
   "metadata": {},
   "outputs": [],
   "source": []
  },
  {
   "cell_type": "code",
   "execution_count": null,
   "id": "1aaedf01",
   "metadata": {},
   "outputs": [],
   "source": []
  },
  {
   "cell_type": "code",
   "execution_count": null,
   "id": "eea16946",
   "metadata": {},
   "outputs": [],
   "source": []
  },
  {
   "cell_type": "code",
   "execution_count": null,
   "id": "701a02d1",
   "metadata": {},
   "outputs": [],
   "source": []
  },
  {
   "cell_type": "code",
   "execution_count": null,
   "id": "da1c249f",
   "metadata": {},
   "outputs": [],
   "source": []
  },
  {
   "cell_type": "code",
   "execution_count": null,
   "id": "7b50a7ae",
   "metadata": {},
   "outputs": [],
   "source": []
  }
 ],
 "metadata": {
  "kernelspec": {
   "display_name": "Python 3 (ipykernel)",
   "language": "python",
   "name": "python3"
  },
  "language_info": {
   "codemirror_mode": {
    "name": "ipython",
    "version": 3
   },
   "file_extension": ".py",
   "mimetype": "text/x-python",
   "name": "python",
   "nbconvert_exporter": "python",
   "pygments_lexer": "ipython3",
   "version": "3.10.9"
  }
 },
 "nbformat": 4,
 "nbformat_minor": 5
}
