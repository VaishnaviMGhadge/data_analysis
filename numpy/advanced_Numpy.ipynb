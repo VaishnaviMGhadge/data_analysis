{
 "cells": [
  {
   "cell_type": "code",
   "execution_count": 160,
   "id": "9b3ce06d",
   "metadata": {},
   "outputs": [],
   "source": [
    "import numpy as np\n",
    "import sys\n",
    "import time\n",
    "import matplotlib.pyplot as plt"
   ]
  },
  {
   "cell_type": "code",
   "execution_count": 18,
   "id": "874df59c",
   "metadata": {},
   "outputs": [
    {
     "name": "stdout",
     "output_type": "stream",
     "text": [
      "time required for the execution of addition is  108 milisec\n"
     ]
    }
   ],
   "source": [
    "#speed\n",
    "#using python list\n",
    "\n",
    "a=[i for i in range(100000000)]\n",
    "b=[i for i in range(100000000,200000000)]\n",
    "start=time.time()\n",
    "c=[]\n",
    "for i in range(len(a)):\n",
    "    c=a[i]+b[i]\n",
    "print(\"time required for the execution of addition is \",round(time.time()-start),'milisec')\n",
    "    \n"
   ]
  },
  {
   "cell_type": "code",
   "execution_count": 19,
   "id": "9fd10588",
   "metadata": {},
   "outputs": [
    {
     "name": "stdout",
     "output_type": "stream",
     "text": [
      "time required for the execution of addition is  0 milisec\n"
     ]
    }
   ],
   "source": [
    "#using numpy array\n",
    "a=np.arange(100000000)\n",
    "b=np.arange(100000000,200000000)\n",
    "start=time.time()\n",
    "c=a[i]+b[i]\n",
    "print(\"time required for the execution of addition is \",round(time.time()-start),'milisec')\n",
    "\n"
   ]
  },
  {
   "cell_type": "code",
   "execution_count": 3,
   "id": "252eaaf6",
   "metadata": {},
   "outputs": [
    {
     "name": "stdout",
     "output_type": "stream",
     "text": [
      "89095160\n"
     ]
    }
   ],
   "source": [
    "# memory \n",
    "a=[i for i in range(10000000)]\n",
    "print(sys.getsizeof(a))\n"
   ]
  },
  {
   "cell_type": "code",
   "execution_count": 4,
   "id": "d23f1b88",
   "metadata": {},
   "outputs": [
    {
     "name": "stdout",
     "output_type": "stream",
     "text": [
      "40000112\n"
     ]
    }
   ],
   "source": [
    "b=np.arange(10000000)\n",
    "print(sys.getsizeof(b))"
   ]
  },
  {
   "cell_type": "code",
   "execution_count": 5,
   "id": "8420884c",
   "metadata": {},
   "outputs": [],
   "source": [
    "# convenience  wise numpy arrays are more efficient way than core python list"
   ]
  },
  {
   "cell_type": "markdown",
   "id": "4e404c64",
   "metadata": {},
   "source": [
    "## indexing : fancy and boolean "
   ]
  },
  {
   "cell_type": "code",
   "execution_count": 9,
   "id": "e1537820",
   "metadata": {},
   "outputs": [
    {
     "data": {
      "text/plain": [
       "array([[ 0,  1,  2],\n",
       "       [ 3,  4,  5],\n",
       "       [ 6,  7,  8],\n",
       "       [ 9, 10, 11]])"
      ]
     },
     "execution_count": 9,
     "metadata": {},
     "output_type": "execute_result"
    }
   ],
   "source": [
    "a=np.arange(12).reshape(4,3)\n",
    "a"
   ]
  },
  {
   "cell_type": "code",
   "execution_count": 10,
   "id": "b56075f3",
   "metadata": {},
   "outputs": [
    {
     "data": {
      "text/plain": [
       "7"
      ]
     },
     "execution_count": 10,
     "metadata": {},
     "output_type": "execute_result"
    }
   ],
   "source": [
    "a[2][1]"
   ]
  },
  {
   "cell_type": "code",
   "execution_count": 11,
   "id": "631365cb",
   "metadata": {},
   "outputs": [
    {
     "data": {
      "text/plain": [
       "7"
      ]
     },
     "execution_count": 11,
     "metadata": {},
     "output_type": "execute_result"
    }
   ],
   "source": [
    "a[2,1]"
   ]
  },
  {
   "cell_type": "code",
   "execution_count": 15,
   "id": "3a3fa522",
   "metadata": {},
   "outputs": [
    {
     "data": {
      "text/plain": [
       "array([[ 0,  1,  2],\n",
       "       [ 6,  7,  8],\n",
       "       [ 9, 10, 11]])"
      ]
     },
     "execution_count": 15,
     "metadata": {},
     "output_type": "execute_result"
    }
   ],
   "source": [
    "a[[0,2,3],0:]"
   ]
  },
  {
   "cell_type": "code",
   "execution_count": 32,
   "id": "458f6482",
   "metadata": {},
   "outputs": [
    {
     "data": {
      "text/plain": [
       "array([[ 7, 18,  2,  7],\n",
       "       [11, 12,  6,  4],\n",
       "       [16, 16,  8, 13],\n",
       "       [ 8, 18, 17, 10],\n",
       "       [16,  2, 16, 17],\n",
       "       [19, 12, 14, 11]])"
      ]
     },
     "execution_count": 32,
     "metadata": {},
     "output_type": "execute_result"
    }
   ],
   "source": [
    "b=np.random.randint(1,20,24).reshape(6,4)\n",
    "b"
   ]
  },
  {
   "cell_type": "code",
   "execution_count": 33,
   "id": "14ae7d66",
   "metadata": {},
   "outputs": [
    {
     "data": {
      "text/plain": [
       "array([ 8, 17])"
      ]
     },
     "execution_count": 33,
     "metadata": {},
     "output_type": "execute_result"
    }
   ],
   "source": [
    "b[[2,4],[2,3]]"
   ]
  },
  {
   "cell_type": "code",
   "execution_count": 37,
   "id": "c29b27dc",
   "metadata": {},
   "outputs": [
    {
     "data": {
      "text/plain": [
       "array([[14, 11],\n",
       "       [16, 17]])"
      ]
     },
     "execution_count": 37,
     "metadata": {},
     "output_type": "execute_result"
    }
   ],
   "source": [
    "b[-1:-3:-1,[2,3]]"
   ]
  },
  {
   "cell_type": "code",
   "execution_count": 38,
   "id": "32df5f5c",
   "metadata": {},
   "outputs": [
    {
     "data": {
      "text/plain": [
       "array([19, 12, 14, 11])"
      ]
     },
     "execution_count": 38,
     "metadata": {},
     "output_type": "execute_result"
    }
   ],
   "source": [
    "b[-1]"
   ]
  },
  {
   "cell_type": "code",
   "execution_count": 40,
   "id": "2e82ea0e",
   "metadata": {},
   "outputs": [
    {
     "data": {
      "text/plain": [
       "array([[ 7, 18,  2,  7],\n",
       "       [11, 12,  6,  4],\n",
       "       [16, 16,  8, 13],\n",
       "       [ 8, 18, 17, 10],\n",
       "       [16,  2, 16, 17],\n",
       "       [19, 12, 14, 11]])"
      ]
     },
     "execution_count": 40,
     "metadata": {},
     "output_type": "execute_result"
    }
   ],
   "source": [
    "b"
   ]
  },
  {
   "cell_type": "code",
   "execution_count": 44,
   "id": "2dd535c3",
   "metadata": {},
   "outputs": [
    {
     "data": {
      "text/plain": [
       "array([[16,  8],\n",
       "       [18, 17]])"
      ]
     },
     "execution_count": 44,
     "metadata": {},
     "output_type": "execute_result"
    }
   ],
   "source": [
    "b[[2,3],1:3]"
   ]
  },
  {
   "cell_type": "code",
   "execution_count": 49,
   "id": "5a1970c8",
   "metadata": {},
   "outputs": [
    {
     "data": {
      "text/plain": [
       "array([[ 7, 18,  2,  7],\n",
       "       [16, 16,  8, 13],\n",
       "       [ 8, 18, 17, 10],\n",
       "       [19, 12, 14, 11]])"
      ]
     },
     "execution_count": 49,
     "metadata": {},
     "output_type": "execute_result"
    }
   ],
   "source": [
    "b[[0,2,3,5],0:]"
   ]
  },
  {
   "cell_type": "markdown",
   "id": "9722e98a",
   "metadata": {},
   "source": [
    "### boolean indexing"
   ]
  },
  {
   "cell_type": "code",
   "execution_count": 71,
   "id": "14cfcf60",
   "metadata": {},
   "outputs": [
    {
     "data": {
      "text/plain": [
       "array([[41, 74, 82,  2],\n",
       "       [40, 24, 61, 75],\n",
       "       [96, 67,  8, 94],\n",
       "       [53, 80, 60, 17],\n",
       "       [77, 87, 16, 68],\n",
       "       [98, 53, 65, 31]])"
      ]
     },
     "execution_count": 71,
     "metadata": {},
     "output_type": "execute_result"
    }
   ],
   "source": [
    "a=np.random.randint(1,100,24).reshape(6,4)\n",
    "a"
   ]
  },
  {
   "cell_type": "code",
   "execution_count": 72,
   "id": "890c8af9",
   "metadata": {},
   "outputs": [
    {
     "data": {
      "text/plain": [
       "array([[False,  True,  True, False],\n",
       "       [False, False,  True,  True],\n",
       "       [ True,  True, False,  True],\n",
       "       [ True,  True,  True, False],\n",
       "       [ True,  True, False,  True],\n",
       "       [ True,  True,  True, False]])"
      ]
     },
     "execution_count": 72,
     "metadata": {},
     "output_type": "execute_result"
    }
   ],
   "source": [
    "a>50\n"
   ]
  },
  {
   "cell_type": "code",
   "execution_count": 75,
   "id": "bc4c5924",
   "metadata": {},
   "outputs": [
    {
     "data": {
      "text/plain": [
       "array([74, 82, 61, 75, 96, 67, 94, 53, 80, 60, 77, 87, 68, 98, 53, 65])"
      ]
     },
     "execution_count": 75,
     "metadata": {},
     "output_type": "execute_result"
    }
   ],
   "source": [
    "a[a>50]"
   ]
  },
  {
   "cell_type": "code",
   "execution_count": 76,
   "id": "d10b1ed9",
   "metadata": {},
   "outputs": [
    {
     "data": {
      "text/plain": [
       "array([[False,  True,  True,  True],\n",
       "       [ True,  True, False, False],\n",
       "       [ True, False,  True,  True],\n",
       "       [False,  True,  True, False],\n",
       "       [False, False,  True,  True],\n",
       "       [ True, False, False, False]])"
      ]
     },
     "execution_count": 76,
     "metadata": {},
     "output_type": "execute_result"
    }
   ],
   "source": [
    "#find ou the even numbers \n",
    "a%2==0"
   ]
  },
  {
   "cell_type": "code",
   "execution_count": 77,
   "id": "321ba116",
   "metadata": {},
   "outputs": [
    {
     "data": {
      "text/plain": [
       "array([74, 82,  2, 40, 24, 96,  8, 94, 80, 60, 16, 68, 98])"
      ]
     },
     "execution_count": 77,
     "metadata": {},
     "output_type": "execute_result"
    }
   ],
   "source": [
    "a[a%2==0]"
   ]
  },
  {
   "cell_type": "code",
   "execution_count": 83,
   "id": "8fb4e79d",
   "metadata": {},
   "outputs": [
    {
     "data": {
      "text/plain": [
       "array([74, 82, 96, 94, 80, 60, 68, 98])"
      ]
     },
     "execution_count": 83,
     "metadata": {},
     "output_type": "execute_result"
    }
   ],
   "source": [
    "# greator than 50 and even also \n",
    "a[(a>50)&(a%2==0)]   # used bitwise and as values are boolean in the array after boolean mask "
   ]
  },
  {
   "cell_type": "code",
   "execution_count": 81,
   "id": "a411d880",
   "metadata": {},
   "outputs": [
    {
     "data": {
      "text/plain": [
       "array([77, 98])"
      ]
     },
     "execution_count": 81,
     "metadata": {},
     "output_type": "execute_result"
    }
   ],
   "source": [
    "# numbers divisible by 7 \n",
    "a[a%7==0]"
   ]
  },
  {
   "cell_type": "markdown",
   "id": "cd1f24c6",
   "metadata": {},
   "source": [
    "## broadcasting "
   ]
  },
  {
   "cell_type": "code",
   "execution_count": 84,
   "id": "872080f4",
   "metadata": {},
   "outputs": [],
   "source": [
    "# broadcasting means how differnt size arrays are treated during the arithmatic operations \n",
    "# smaller arrays are broadcased for the compatible shapes "
   ]
  },
  {
   "cell_type": "code",
   "execution_count": 85,
   "id": "9a390eff",
   "metadata": {},
   "outputs": [
    {
     "data": {
      "text/plain": [
       "array([[0, 1, 2],\n",
       "       [3, 4, 5]])"
      ]
     },
     "execution_count": 85,
     "metadata": {},
     "output_type": "execute_result"
    }
   ],
   "source": [
    "#same size\n",
    "a=np.arange(6).reshape(2,3)\n",
    "a"
   ]
  },
  {
   "cell_type": "code",
   "execution_count": 86,
   "id": "8c3a7650",
   "metadata": {},
   "outputs": [
    {
     "data": {
      "text/plain": [
       "array([[ 6,  7,  8],\n",
       "       [ 9, 10, 11]])"
      ]
     },
     "execution_count": 86,
     "metadata": {},
     "output_type": "execute_result"
    }
   ],
   "source": [
    "\n",
    "b=np.arange(6,12).reshape(2,3)\n",
    "b"
   ]
  },
  {
   "cell_type": "code",
   "execution_count": 88,
   "id": "8e2c1194",
   "metadata": {},
   "outputs": [
    {
     "data": {
      "text/plain": [
       "array([[ 6,  8, 10],\n",
       "       [12, 14, 16]])"
      ]
     },
     "execution_count": 88,
     "metadata": {},
     "output_type": "execute_result"
    }
   ],
   "source": [
    "# addition of arrays with same size\n",
    "a+b"
   ]
  },
  {
   "cell_type": "code",
   "execution_count": 90,
   "id": "9c947077",
   "metadata": {},
   "outputs": [
    {
     "data": {
      "text/plain": [
       "array([[0, 1, 2],\n",
       "       [3, 4, 5]])"
      ]
     },
     "execution_count": 90,
     "metadata": {},
     "output_type": "execute_result"
    }
   ],
   "source": [
    "c=np.arange(6).reshape(2,3)\n",
    "c"
   ]
  },
  {
   "cell_type": "code",
   "execution_count": 91,
   "id": "33611076",
   "metadata": {},
   "outputs": [
    {
     "data": {
      "text/plain": [
       "array([[0, 1, 2]])"
      ]
     },
     "execution_count": 91,
     "metadata": {},
     "output_type": "execute_result"
    }
   ],
   "source": [
    "d=np.arange(3).reshape(1,3)\n",
    "d"
   ]
  },
  {
   "cell_type": "code",
   "execution_count": 92,
   "id": "5643ec87",
   "metadata": {},
   "outputs": [
    {
     "data": {
      "text/plain": [
       "array([[0, 2, 4],\n",
       "       [3, 5, 7]])"
      ]
     },
     "execution_count": 92,
     "metadata": {},
     "output_type": "execute_result"
    }
   ],
   "source": [
    "c+d"
   ]
  },
  {
   "cell_type": "code",
   "execution_count": 93,
   "id": "4d0dacae",
   "metadata": {},
   "outputs": [
    {
     "data": {
      "text/plain": [
       "array([[ 0,  1,  2],\n",
       "       [ 3,  4,  5],\n",
       "       [ 6,  7,  8],\n",
       "       [ 9, 10, 11]])"
      ]
     },
     "execution_count": 93,
     "metadata": {},
     "output_type": "execute_result"
    }
   ],
   "source": [
    "e=np.arange(12).reshape(4,3)\n",
    "e"
   ]
  },
  {
   "cell_type": "code",
   "execution_count": 100,
   "id": "4ead06cd",
   "metadata": {},
   "outputs": [
    {
     "data": {
      "text/plain": [
       "array([0, 1, 2])"
      ]
     },
     "execution_count": 100,
     "metadata": {},
     "output_type": "execute_result"
    }
   ],
   "source": [
    "f=np.arange(3)\n",
    "f"
   ]
  },
  {
   "cell_type": "code",
   "execution_count": 103,
   "id": "c3fdc699",
   "metadata": {},
   "outputs": [
    {
     "data": {
      "text/plain": [
       "array([[ 0,  2,  4],\n",
       "       [ 3,  5,  7],\n",
       "       [ 6,  8, 10],\n",
       "       [ 9, 11, 13]])"
      ]
     },
     "execution_count": 103,
     "metadata": {},
     "output_type": "execute_result"
    }
   ],
   "source": [
    "e+f"
   ]
  },
  {
   "cell_type": "code",
   "execution_count": 101,
   "id": "264ade6f",
   "metadata": {},
   "outputs": [
    {
     "data": {
      "text/plain": [
       "array([[ 0,  1,  2,  3],\n",
       "       [ 4,  5,  6,  7],\n",
       "       [ 8,  9, 10, 11]])"
      ]
     },
     "execution_count": 101,
     "metadata": {},
     "output_type": "execute_result"
    }
   ],
   "source": [
    "g=np.arange(12).reshape(3,4)\n",
    "g"
   ]
  },
  {
   "cell_type": "code",
   "execution_count": 102,
   "id": "5ca61f66",
   "metadata": {},
   "outputs": [
    {
     "data": {
      "text/plain": [
       "array([0, 1, 2])"
      ]
     },
     "execution_count": 102,
     "metadata": {},
     "output_type": "execute_result"
    }
   ],
   "source": [
    "f"
   ]
  },
  {
   "cell_type": "code",
   "execution_count": 104,
   "id": "59dc17b1",
   "metadata": {},
   "outputs": [
    {
     "ename": "ValueError",
     "evalue": "operands could not be broadcast together with shapes (3,4) (3,) ",
     "output_type": "error",
     "traceback": [
      "\u001b[1;31m---------------------------------------------------------------------------\u001b[0m",
      "\u001b[1;31mValueError\u001b[0m                                Traceback (most recent call last)",
      "Cell \u001b[1;32mIn[104], line 1\u001b[0m\n\u001b[1;32m----> 1\u001b[0m \u001b[43mg\u001b[49m\u001b[38;5;241;43m+\u001b[39;49m\u001b[43mf\u001b[49m\n",
      "\u001b[1;31mValueError\u001b[0m: operands could not be broadcast together with shapes (3,4) (3,) "
     ]
    }
   ],
   "source": [
    "g+f"
   ]
  },
  {
   "cell_type": "code",
   "execution_count": 105,
   "id": "83d1cb10",
   "metadata": {},
   "outputs": [
    {
     "data": {
      "text/plain": [
       "array([[0, 1, 2]])"
      ]
     },
     "execution_count": 105,
     "metadata": {},
     "output_type": "execute_result"
    }
   ],
   "source": [
    "h=np.arange(3).reshape(1,3)\n",
    "h"
   ]
  },
  {
   "cell_type": "code",
   "execution_count": 106,
   "id": "1fd94824",
   "metadata": {},
   "outputs": [
    {
     "data": {
      "text/plain": [
       "array([[0],\n",
       "       [1],\n",
       "       [2]])"
      ]
     },
     "execution_count": 106,
     "metadata": {},
     "output_type": "execute_result"
    }
   ],
   "source": [
    "i=np.arange(3).reshape(3,1)\n",
    "i"
   ]
  },
  {
   "cell_type": "code",
   "execution_count": 107,
   "id": "c9a2aa9e",
   "metadata": {},
   "outputs": [
    {
     "data": {
      "text/plain": [
       "array([[0, 1, 2],\n",
       "       [1, 2, 3],\n",
       "       [2, 3, 4]])"
      ]
     },
     "execution_count": 107,
     "metadata": {},
     "output_type": "execute_result"
    }
   ],
   "source": [
    "h+i"
   ]
  },
  {
   "cell_type": "code",
   "execution_count": 109,
   "id": "5d76d96e",
   "metadata": {},
   "outputs": [
    {
     "data": {
      "text/plain": [
       "array([[0, 1, 2]])"
      ]
     },
     "execution_count": 109,
     "metadata": {},
     "output_type": "execute_result"
    }
   ],
   "source": [
    "j=np.arange(3).reshape(1,3)\n",
    "j"
   ]
  },
  {
   "cell_type": "code",
   "execution_count": 112,
   "id": "2dbd2a9c",
   "metadata": {},
   "outputs": [
    {
     "data": {
      "text/plain": [
       "array([[0],\n",
       "       [1],\n",
       "       [2],\n",
       "       [3]])"
      ]
     },
     "execution_count": 112,
     "metadata": {},
     "output_type": "execute_result"
    }
   ],
   "source": [
    "k=np.arange(4).reshape(4,1)\n",
    "k"
   ]
  },
  {
   "cell_type": "code",
   "execution_count": 113,
   "id": "1afa5ea6",
   "metadata": {},
   "outputs": [
    {
     "data": {
      "text/plain": [
       "array([[0, 1, 2],\n",
       "       [1, 2, 3],\n",
       "       [2, 3, 4],\n",
       "       [3, 4, 5]])"
      ]
     },
     "execution_count": 113,
     "metadata": {},
     "output_type": "execute_result"
    }
   ],
   "source": [
    "j+k"
   ]
  },
  {
   "cell_type": "markdown",
   "id": "090f10c8",
   "metadata": {},
   "source": [
    "#### Broadcasting Rules\n",
    "\n",
    "1. Make the two arrays have the same number of dimensions.\n",
    "\n",
    "If the numbers of dimensions of the two arrays are different, add new dimensions with size 1 to the head of the array with the smaller dimension.\n",
    "2. Make each dimension of the two arrays the same size.\n",
    "\n",
    "If the sizes of each dimension of the two arrays do not match, dimensions with size 1 are stretched to the size of the other array.\n",
    "If there is a dimension whose size is not 1 in either of the two arrays, it cannot be broadcasted, and an error is raised."
   ]
  },
  {
   "cell_type": "code",
   "execution_count": 114,
   "id": "513dcfa9",
   "metadata": {},
   "outputs": [
    {
     "data": {
      "text/plain": [
       "array([2])"
      ]
     },
     "execution_count": 114,
     "metadata": {},
     "output_type": "execute_result"
    }
   ],
   "source": [
    "l=np.array([2])\n",
    "l"
   ]
  },
  {
   "cell_type": "code",
   "execution_count": 115,
   "id": "cbd41394",
   "metadata": {},
   "outputs": [
    {
     "data": {
      "text/plain": [
       "array([[0, 1],\n",
       "       [2, 3]])"
      ]
     },
     "execution_count": 115,
     "metadata": {},
     "output_type": "execute_result"
    }
   ],
   "source": [
    "m=np.arange(4).reshape(2,2)\n",
    "m"
   ]
  },
  {
   "cell_type": "code",
   "execution_count": 116,
   "id": "ffc73c3a",
   "metadata": {},
   "outputs": [
    {
     "data": {
      "text/plain": [
       "array([[2, 3],\n",
       "       [4, 5]])"
      ]
     },
     "execution_count": 116,
     "metadata": {},
     "output_type": "execute_result"
    }
   ],
   "source": [
    "l+m"
   ]
  },
  {
   "cell_type": "code",
   "execution_count": 117,
   "id": "1411bcf2",
   "metadata": {},
   "outputs": [
    {
     "data": {
      "text/plain": [
       "array([[ 0,  1,  2],\n",
       "       [ 3,  4,  5],\n",
       "       [ 6,  7,  8],\n",
       "       [ 9, 10, 11]])"
      ]
     },
     "execution_count": 117,
     "metadata": {},
     "output_type": "execute_result"
    }
   ],
   "source": [
    "n=np.arange(12).reshape(4,3)\n",
    "n"
   ]
  },
  {
   "cell_type": "code",
   "execution_count": 118,
   "id": "a082049d",
   "metadata": {},
   "outputs": [
    {
     "data": {
      "text/plain": [
       "array([[ 0,  1,  2,  3],\n",
       "       [ 4,  5,  6,  7],\n",
       "       [ 8,  9, 10, 11]])"
      ]
     },
     "execution_count": 118,
     "metadata": {},
     "output_type": "execute_result"
    }
   ],
   "source": [
    "o=np.arange(12).reshape(3,4)\n",
    "o"
   ]
  },
  {
   "cell_type": "code",
   "execution_count": 119,
   "id": "a36f06a3",
   "metadata": {},
   "outputs": [
    {
     "ename": "ValueError",
     "evalue": "operands could not be broadcast together with shapes (4,3) (3,4) ",
     "output_type": "error",
     "traceback": [
      "\u001b[1;31m---------------------------------------------------------------------------\u001b[0m",
      "\u001b[1;31mValueError\u001b[0m                                Traceback (most recent call last)",
      "Cell \u001b[1;32mIn[119], line 1\u001b[0m\n\u001b[1;32m----> 1\u001b[0m \u001b[43mn\u001b[49m\u001b[38;5;241;43m+\u001b[39;49m\u001b[43mo\u001b[49m\n",
      "\u001b[1;31mValueError\u001b[0m: operands could not be broadcast together with shapes (4,3) (3,4) "
     ]
    }
   ],
   "source": [
    "n+o"
   ]
  },
  {
   "cell_type": "code",
   "execution_count": 120,
   "id": "04f08931",
   "metadata": {},
   "outputs": [
    {
     "data": {
      "text/plain": [
       "array([[ 0,  1,  2,  3],\n",
       "       [ 4,  5,  6,  7],\n",
       "       [ 8,  9, 10, 11],\n",
       "       [12, 13, 14, 15]])"
      ]
     },
     "execution_count": 120,
     "metadata": {},
     "output_type": "execute_result"
    }
   ],
   "source": [
    "p=np.arange(16).reshape(4,4)\n",
    "p"
   ]
  },
  {
   "cell_type": "code",
   "execution_count": 121,
   "id": "9ac1b1be",
   "metadata": {},
   "outputs": [
    {
     "data": {
      "text/plain": [
       "array([[0, 1],\n",
       "       [2, 3]])"
      ]
     },
     "execution_count": 121,
     "metadata": {},
     "output_type": "execute_result"
    }
   ],
   "source": [
    "q=np.arange(4).reshape(2,2)\n",
    "q"
   ]
  },
  {
   "cell_type": "code",
   "execution_count": 122,
   "id": "7b54a839",
   "metadata": {},
   "outputs": [
    {
     "ename": "ValueError",
     "evalue": "operands could not be broadcast together with shapes (4,4) (2,2) ",
     "output_type": "error",
     "traceback": [
      "\u001b[1;31m---------------------------------------------------------------------------\u001b[0m",
      "\u001b[1;31mValueError\u001b[0m                                Traceback (most recent call last)",
      "Cell \u001b[1;32mIn[122], line 1\u001b[0m\n\u001b[1;32m----> 1\u001b[0m \u001b[43mp\u001b[49m\u001b[38;5;241;43m+\u001b[39;49m\u001b[43mq\u001b[49m\n",
      "\u001b[1;31mValueError\u001b[0m: operands could not be broadcast together with shapes (4,4) (2,2) "
     ]
    }
   ],
   "source": [
    "p+q"
   ]
  },
  {
   "cell_type": "markdown",
   "id": "6031a535",
   "metadata": {},
   "source": [
    "# mathematical operations on numpy arrays "
   ]
  },
  {
   "cell_type": "markdown",
   "id": "725075fb",
   "metadata": {},
   "source": [
    "### calculate sigmoid of an array elements "
   ]
  },
  {
   "cell_type": "code",
   "execution_count": 129,
   "id": "b14dd042",
   "metadata": {},
   "outputs": [],
   "source": [
    "def sigmoid(arr):\n",
    "    return 1/(1+np.exp((arr)*-1))\n"
   ]
  },
  {
   "cell_type": "code",
   "execution_count": 134,
   "id": "d0759efb",
   "metadata": {},
   "outputs": [
    {
     "data": {
      "text/plain": [
       "array([0, 1, 2, 3, 4, 5, 6, 7, 8, 9])"
      ]
     },
     "execution_count": 134,
     "metadata": {},
     "output_type": "execute_result"
    }
   ],
   "source": [
    "a=np.arange(10)\n",
    "a"
   ]
  },
  {
   "cell_type": "code",
   "execution_count": 135,
   "id": "d38ba419",
   "metadata": {},
   "outputs": [
    {
     "data": {
      "text/plain": [
       "array([0.5       , 0.73105858, 0.88079708, 0.95257413, 0.98201379,\n",
       "       0.99330715, 0.99752738, 0.99908895, 0.99966465, 0.99987661])"
      ]
     },
     "execution_count": 135,
     "metadata": {},
     "output_type": "execute_result"
    }
   ],
   "source": [
    "sigmoid(a)"
   ]
  },
  {
   "cell_type": "markdown",
   "id": "66a20932",
   "metadata": {},
   "source": [
    "### calculate mean squared error"
   ]
  },
  {
   "attachments": {
    "image.png": {
     "image/png": "[encoded data removed]"
    }
   },
   "cell_type": "raw",
   "id": "30fcbb93",
   "metadata": {},
   "source": [
    "![image.png](attachment:image.png)"
   ]
  },
  {
   "cell_type": "code",
   "execution_count": 136,
   "id": "8e67dd8b",
   "metadata": {},
   "outputs": [],
   "source": [
    "actual=np.random.randint(1,50,25)\n",
    "predicted=np.random.randint(1,50,25)\n"
   ]
  },
  {
   "cell_type": "code",
   "execution_count": 137,
   "id": "1875bf8c",
   "metadata": {},
   "outputs": [
    {
     "data": {
      "text/plain": [
       "array([16,  8, 38, 48, 10, 26, 41,  6, 45, 49, 33, 47, 49, 20, 33, 41, 16,\n",
       "       18, 29,  3, 38, 35, 29,  7, 30])"
      ]
     },
     "execution_count": 137,
     "metadata": {},
     "output_type": "execute_result"
    }
   ],
   "source": [
    "actual"
   ]
  },
  {
   "cell_type": "code",
   "execution_count": 138,
   "id": "1ea99811",
   "metadata": {},
   "outputs": [
    {
     "data": {
      "text/plain": [
       "array([12, 18,  8,  6, 36,  5, 27, 45, 47, 13, 40, 47, 10, 38,  6, 20, 22,\n",
       "       10, 23, 34, 31, 17, 18, 17, 12])"
      ]
     },
     "execution_count": 138,
     "metadata": {},
     "output_type": "execute_result"
    }
   ],
   "source": [
    "predicted"
   ]
  },
  {
   "cell_type": "code",
   "execution_count": 143,
   "id": "35292318",
   "metadata": {},
   "outputs": [
    {
     "data": {
      "text/plain": [
       "array([ 0.64,  4.  , 36.  , 70.56, 27.04, 17.64,  7.84, 60.84,  0.16,\n",
       "       51.84,  1.96,  0.  , 60.84, 12.96, 29.16, 17.64,  1.44,  2.56,\n",
       "        1.44, 38.44,  1.96, 12.96,  4.84,  4.  , 12.96])"
      ]
     },
     "execution_count": 143,
     "metadata": {},
     "output_type": "execute_result"
    }
   ],
   "source": [
    "(predicted-actual)**2/len(actual)"
   ]
  },
  {
   "cell_type": "code",
   "execution_count": 149,
   "id": "6e39f6f1",
   "metadata": {},
   "outputs": [],
   "source": [
    "def mse(actual,predicted):\n",
    "    return np.sum((actual-predicted)**2)/len(actual)"
   ]
  },
  {
   "cell_type": "code",
   "execution_count": 150,
   "id": "ea798cdb",
   "metadata": {},
   "outputs": [
    {
     "data": {
      "text/plain": [
       "479.72"
      ]
     },
     "execution_count": 150,
     "metadata": {},
     "output_type": "execute_result"
    }
   ],
   "source": [
    "mse(actual,predicted)"
   ]
  },
  {
   "cell_type": "markdown",
   "id": "42c7d103",
   "metadata": {},
   "source": [
    "### binary cross entropy \n"
   ]
  },
  {
   "cell_type": "code",
   "execution_count": 152,
   "id": "e022a9c3",
   "metadata": {},
   "outputs": [
    {
     "data": {
      "text/plain": [
       "array([ 1.,  2.,  3.,  4., nan,  6.])"
      ]
     },
     "execution_count": 152,
     "metadata": {},
     "output_type": "execute_result"
    }
   ],
   "source": [
    "a=np.array([1,2,3,4,np.nan,6])\n",
    "a"
   ]
  },
  {
   "cell_type": "code",
   "execution_count": 156,
   "id": "71995415",
   "metadata": {},
   "outputs": [
    {
     "data": {
      "text/plain": [
       "array([1., 2., 3., 4., 6.])"
      ]
     },
     "execution_count": 156,
     "metadata": {},
     "output_type": "execute_result"
    }
   ],
   "source": [
    "a[~np.isnan(a)]"
   ]
  },
  {
   "cell_type": "markdown",
   "id": "d6bda922",
   "metadata": {},
   "source": [
    "## graph plotting using numpy and matplotlib"
   ]
  },
  {
   "cell_type": "markdown",
   "id": "03aee79b",
   "metadata": {},
   "source": [
    "## 1.straight line graph \n",
    "\n",
    "###  formula : (x=y)"
   ]
  },
  {
   "cell_type": "code",
   "execution_count": 157,
   "id": "a0929590",
   "metadata": {},
   "outputs": [],
   "source": [
    "x=np.linspace(-10,10,100)\n",
    "y=x"
   ]
  },
  {
   "cell_type": "code",
   "execution_count": 165,
   "id": "5d860ed9",
   "metadata": {},
   "outputs": [
    {
     "data": {
      "text/plain": [
       "[<matplotlib.lines.Line2D at 0x2c281335630>]"
      ]
     },
     "execution_count": 165,
     "metadata": {},
     "output_type": "execute_result"
    },
    {
     "data": {
      "image/png": "[encoded data removed]",
      "text/plain": [
       "<Figure size 640x480 with 1 Axes>"
      ]
     },
     "metadata": {},
     "output_type": "display_data"
    }
   ],
   "source": [
    "plt.plot(x,y,color='green', marker='o', linestyle='dashed',linewidth=2, markersize=3)"
   ]
  },
  {
   "cell_type": "markdown",
   "id": "76186e6b",
   "metadata": {},
   "source": [
    "### plot the graph of parabola \n",
    "\n",
    "### formula : (y=x**2)"
   ]
  },
  {
   "cell_type": "code",
   "execution_count": 183,
   "id": "ff1a4a41",
   "metadata": {},
   "outputs": [],
   "source": [
    "x=np.linspace(-100,100,100)\n",
    "y=x**2\n",
    "\n",
    "\n"
   ]
  },
  {
   "cell_type": "code",
   "execution_count": 185,
   "id": "1b1299d0",
   "metadata": {},
   "outputs": [
    {
     "data": {
      "text/plain": [
       "[<matplotlib.lines.Line2D at 0x2c281307fa0>]"
      ]
     },
     "execution_count": 185,
     "metadata": {},
     "output_type": "execute_result"
    },
    {
     "data": {
      "image/png": "[encoded data removed]",
      "text/plain": [
       "<Figure size 640x480 with 1 Axes>"
      ]
     },
     "metadata": {},
     "output_type": "display_data"
    }
   ],
   "source": [
    "plt.plot(x,y,'r+')"
   ]
  },
  {
   "cell_type": "markdown",
   "id": "df571ce8",
   "metadata": {},
   "source": [
    "## sin wave\n"
   ]
  },
  {
   "cell_type": "code",
   "execution_count": 194,
   "id": "d735d919",
   "metadata": {},
   "outputs": [],
   "source": [
    "a=np.linspace(-10,10,100)\n",
    "b=np.sin(a)\n"
   ]
  },
  {
   "cell_type": "code",
   "execution_count": 195,
   "id": "823ebf38",
   "metadata": {},
   "outputs": [
    {
     "data": {
      "text/plain": [
       "[<matplotlib.lines.Line2D at 0x2c284d92b90>]"
      ]
     },
     "execution_count": 195,
     "metadata": {},
     "output_type": "execute_result"
    },
    {
     "data": {
      "image/png": "[encoded data removed]",
      "text/plain": [
       "<Figure size 640x480 with 1 Axes>"
      ]
     },
     "metadata": {},
     "output_type": "display_data"
    }
   ],
   "source": [
    "plt.plot(a,b)"
   ]
  },
  {
   "cell_type": "markdown",
   "id": "89d43452",
   "metadata": {},
   "source": [
    "### y=x*log(x)"
   ]
  },
  {
   "cell_type": "code",
   "execution_count": 205,
   "id": "148e0756",
   "metadata": {},
   "outputs": [
    {
     "data": {
      "text/plain": [
       "array([-10.        ,  -9.7979798 ,  -9.5959596 ,  -9.39393939,\n",
       "        -9.19191919,  -8.98989899,  -8.78787879,  -8.58585859,\n",
       "        -8.38383838,  -8.18181818,  -7.97979798,  -7.77777778,\n",
       "        -7.57575758,  -7.37373737,  -7.17171717,  -6.96969697,\n",
       "        -6.76767677,  -6.56565657,  -6.36363636,  -6.16161616,\n",
       "        -5.95959596,  -5.75757576,  -5.55555556,  -5.35353535,\n",
       "        -5.15151515,  -4.94949495,  -4.74747475,  -4.54545455,\n",
       "        -4.34343434,  -4.14141414,  -3.93939394,  -3.73737374,\n",
       "        -3.53535354,  -3.33333333,  -3.13131313,  -2.92929293,\n",
       "        -2.72727273,  -2.52525253,  -2.32323232,  -2.12121212,\n",
       "        -1.91919192,  -1.71717172,  -1.51515152,  -1.31313131,\n",
       "        -1.11111111,  -0.90909091,  -0.70707071,  -0.50505051,\n",
       "        -0.3030303 ,  -0.1010101 ,   0.1010101 ,   0.3030303 ,\n",
       "         0.50505051,   0.70707071,   0.90909091,   1.11111111,\n",
       "         1.31313131,   1.51515152,   1.71717172,   1.91919192,\n",
       "         2.12121212,   2.32323232,   2.52525253,   2.72727273,\n",
       "         2.92929293,   3.13131313,   3.33333333,   3.53535354,\n",
       "         3.73737374,   3.93939394,   4.14141414,   4.34343434,\n",
       "         4.54545455,   4.74747475,   4.94949495,   5.15151515,\n",
       "         5.35353535,   5.55555556,   5.75757576,   5.95959596,\n",
       "         6.16161616,   6.36363636,   6.56565657,   6.76767677,\n",
       "         6.96969697,   7.17171717,   7.37373737,   7.57575758,\n",
       "         7.77777778,   7.97979798,   8.18181818,   8.38383838,\n",
       "         8.58585859,   8.78787879,   8.98989899,   9.19191919,\n",
       "         9.39393939,   9.5959596 ,   9.7979798 ,  10.        ])"
      ]
     },
     "execution_count": 205,
     "metadata": {},
     "output_type": "execute_result"
    }
   ],
   "source": [
    "x=np.linspace(-10,10,100)\n",
    "x\n"
   ]
  },
  {
   "cell_type": "code",
   "execution_count": 206,
   "id": "6d6b4788",
   "metadata": {},
   "outputs": [
    {
     "name": "stderr",
     "output_type": "stream",
     "text": [
      "C:\\Users\\Vaishnavi\\AppData\\Local\\Temp\\ipykernel_6400\\2577417320.py:1: RuntimeWarning: invalid value encountered in log\n",
      "  y=x*np.log(x)\n"
     ]
    },
    {
     "data": {
      "text/plain": [
       "array([        nan,         nan,         nan,         nan,         nan,\n",
       "               nan,         nan,         nan,         nan,         nan,\n",
       "               nan,         nan,         nan,         nan,         nan,\n",
       "               nan,         nan,         nan,         nan,         nan,\n",
       "               nan,         nan,         nan,         nan,         nan,\n",
       "               nan,         nan,         nan,         nan,         nan,\n",
       "               nan,         nan,         nan,         nan,         nan,\n",
       "               nan,         nan,         nan,         nan,         nan,\n",
       "               nan,         nan,         nan,         nan,         nan,\n",
       "               nan,         nan,         nan,         nan,         nan,\n",
       "       -0.23156917, -0.36179469, -0.34499841, -0.24508811, -0.08664562,\n",
       "        0.11706724,  0.35771614,  0.62956885,  0.92843798,  1.25112931,\n",
       "        1.59512538,  1.95839066,  2.33924512,  2.73627848,  3.14829001,\n",
       "        3.57424504,  4.01324268,  4.46449148,  4.92729058,  5.40101502,\n",
       "        5.88510401,  6.37905156,  6.88239878,  7.39472765,  7.91565571,\n",
       "        8.44483178,  8.98193225,  9.52665793, 10.07873143, 10.6378948 ,\n",
       "       11.20390763, 11.77654526, 12.35559731, 12.94086634, 13.53216672,\n",
       "       14.12932359, 14.73217191, 15.34055573, 15.95432739, 16.57334692,\n",
       "       17.19748143, 17.82660461, 18.46059621, 19.09934166, 19.74273167,\n",
       "       20.39066184, 21.04303237, 21.69974775, 22.36071651, 23.02585093])"
      ]
     },
     "execution_count": 206,
     "metadata": {},
     "output_type": "execute_result"
    }
   ],
   "source": [
    "y=x*np.log(x)\n",
    "y"
   ]
  },
  {
   "cell_type": "code",
   "execution_count": 207,
   "id": "b505a385",
   "metadata": {},
   "outputs": [
    {
     "data": {
      "text/plain": [
       "[<matplotlib.lines.Line2D at 0x2c284f14b80>]"
      ]
     },
     "execution_count": 207,
     "metadata": {},
     "output_type": "execute_result"
    },
    {
     "data": {
      "image/png": "[encoded data removed]",
      "text/plain": [
       "<Figure size 640x480 with 1 Axes>"
      ]
     },
     "metadata": {},
     "output_type": "display_data"
    }
   ],
   "source": [
    "plt.plot(x,y)"
   ]
  },
  {
   "cell_type": "markdown",
   "id": "58385cc1",
   "metadata": {},
   "source": [
    "### sigmoid function graph "
   ]
  },
  {
   "cell_type": "code",
   "execution_count": 209,
   "id": "1f29af9e",
   "metadata": {},
   "outputs": [],
   "source": [
    "x=np.linspace(-10,10,100)\n",
    "y=sigmoid(x)\n"
   ]
  },
  {
   "cell_type": "code",
   "execution_count": 210,
   "id": "3f294fc4",
   "metadata": {},
   "outputs": [
    {
     "data": {
      "text/plain": [
       "[<matplotlib.lines.Line2D at 0x2c2860e6230>]"
      ]
     },
     "execution_count": 210,
     "metadata": {},
     "output_type": "execute_result"
    },
    {
     "data": {
      "image/png": "[encoded data removed]",
      "text/plain": [
       "<Figure size 640x480 with 1 Axes>"
      ]
     },
     "metadata": {},
     "output_type": "display_data"
    }
   ],
   "source": [
    "plt.plot(x,y)"
   ]
  },
  {
   "cell_type": "markdown",
   "id": "ffc657d3",
   "metadata": {},
   "source": [
    "##  for good understanding of the graph always use linspace because linspace gives the well spaced  points on the line "
   ]
  },
  {
   "cell_type": "code",
   "execution_count": null,
   "id": "aa1d45a8",
   "metadata": {},
   "outputs": [],
   "source": []
  }
 ],
 "metadata": {
  "kernelspec": {
   "display_name": "Python 3 (ipykernel)",
   "language": "python",
   "name": "python3"
  },
  "language_info": {
   "codemirror_mode": {
    "name": "ipython",
    "version": 3
   },
   "file_extension": ".py",
   "mimetype": "text/x-python",
   "name": "python",
   "nbconvert_exporter": "python",
   "pygments_lexer": "ipython3",
   "version": "3.10.9"
  }
 },
 "nbformat": 4,
 "nbformat_minor": 5
}
